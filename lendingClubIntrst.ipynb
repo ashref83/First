{
  "nbformat": 4,
  "nbformat_minor": 0,
  "metadata": {
    "colab": {
      "name": "Untitled",
      "provenance": [],
      "collapsed_sections": [],
      "authorship_tag": "ABX9TyNAMSCt1YXT7AvzHGtzF1Q1",
      "include_colab_link": true
    },
    "kernelspec": {
      "name": "python3",
      "display_name": "Python 3"
    }
  },
  "cells": [
    {
      "cell_type": "markdown",
      "metadata": {
        "id": "view-in-github",
        "colab_type": "text"
      },
      "source": [
        "<a href=\"https://colab.research.google.com/github/ashref83/First/blob/branc1/lendingClubIntrst.ipynb\" target=\"_parent\"><img src=\"https://colab.research.google.com/assets/colab-badge.svg\" alt=\"Open In Colab\"/></a>"
      ]
    },
    {
      "cell_type": "code",
      "metadata": {
        "id": "_dyqm9MCpicU",
        "colab_type": "code",
        "colab": {}
      },
      "source": [
        ""
      ],
      "execution_count": 0,
      "outputs": []
    },
    {
      "cell_type": "markdown",
      "metadata": {
        "id": "S-A3m6cs8jVA",
        "colab_type": "text"
      },
      "source": [
        "steps to use google drive"
      ]
    },
    {
      "cell_type": "code",
      "metadata": {
        "id": "mvipUTXa8hIw",
        "colab_type": "code",
        "colab": {}
      },
      "source": [
        ""
      ],
      "execution_count": 0,
      "outputs": []
    },
    {
      "cell_type": "markdown",
      "metadata": {
        "id": "x6p9C6it9BJ5",
        "colab_type": "text"
      },
      "source": [
        "Google drive file"
      ]
    },
    {
      "cell_type": "code",
      "metadata": {
        "id": "7TrSWJNX87wE",
        "colab_type": "code",
        "colab": {}
      },
      "source": [
        "link = 'https://drive.google.com/file/d/1H0fiIfVlej2rtpBRQO3GF_b-oR4XVMNu/view?usp=sharing'\n",
        "\n",
        "#fluff, id = link.split('=')\n",
        "\n",
        "id = '1H0fiIfVlej2rtpBRQO3GF_b-oR4XVMNu'"
      ],
      "execution_count": 0,
      "outputs": []
    },
    {
      "cell_type": "code",
      "metadata": {
        "id": "wvlJX6Vu_jBD",
        "colab_type": "code",
        "colab": {}
      },
      "source": [
        "downloaded = drive.CreateFile({'id':id}) "
      ],
      "execution_count": 0,
      "outputs": []
    },
    {
      "cell_type": "code",
      "metadata": {
        "id": "zDlpsIxuA7vZ",
        "colab_type": "code",
        "colab": {}
      },
      "source": [
        "downloaded.GetContentFile('34_1110834_compressed_loan.csv.zip') "
      ],
      "execution_count": 0,
      "outputs": []
    },
    {
      "cell_type": "code",
      "metadata": {
        "id": "FEmfF3eWBHRY",
        "colab_type": "code",
        "outputId": "0e208e3f-ddcb-4208-8fbe-126f8847af7a",
        "colab": {
          "base_uri": "https://localhost:8080/",
          "height": 36
        }
      },
      "source": [
        "ls"
      ],
      "execution_count": 0,
      "outputs": [
        {
          "output_type": "stream",
          "text": [
            "34_1110834_compressed_loan.csv.zip  adc.json  \u001b[0m\u001b[01;34msample_data\u001b[0m/\n"
          ],
          "name": "stdout"
        }
      ]
    },
    {
      "cell_type": "code",
      "metadata": {
        "id": "M0uz5uLBBLME",
        "colab_type": "code",
        "outputId": "2bcdf107-e2ad-48d1-9e20-898bd8b40db5",
        "colab": {
          "base_uri": "https://localhost:8080/",
          "height": 54
        }
      },
      "source": [
        "!unzip 34_1110834_compressed_loan.csv.zip -d lending"
      ],
      "execution_count": 0,
      "outputs": [
        {
          "output_type": "stream",
          "text": [
            "Archive:  34_1110834_compressed_loan.csv.zip\n",
            "  inflating: lending/loan.csv        \n"
          ],
          "name": "stdout"
        }
      ]
    },
    {
      "cell_type": "code",
      "metadata": {
        "id": "ibd9mGvJBUrC",
        "colab_type": "code",
        "outputId": "6dac7117-a3e1-4cbd-c929-a0922dd4d644",
        "colab": {
          "base_uri": "https://localhost:8080/",
          "height": 36
        }
      },
      "source": [
        "ls lending/"
      ],
      "execution_count": 0,
      "outputs": [
        {
          "output_type": "stream",
          "text": [
            "loan.csv\n"
          ],
          "name": "stdout"
        }
      ]
    },
    {
      "cell_type": "markdown",
      "metadata": {
        "id": "TCmPf_L2Bhwv",
        "colab_type": "text"
      },
      "source": [
        "This is First attempt to analyse lending club my own way\n",
        "\n",
        "I am tryin to study following things\n",
        "\n",
        "1.   Distrubution of loan according to FICCO Score\n",
        "\n",
        "1.  Does Giving loan to low ficco score make more profit comparing with high ficco and charged off\n",
        "2.   Profit ratio accordin to FICCO Score.\n",
        "\n",
        "5. Check multiple loan taking from same customer -repayment patter and FICCO score chage\n",
        "\n",
        "1.   Charged off and closed loan ratio\n"
      ]
    },
    {
      "cell_type": "code",
      "metadata": {
        "id": "S6oxNqi8BcRJ",
        "colab_type": "code",
        "outputId": "0610ff6a-d5ba-4932-edb3-24955772fe13",
        "colab": {
          "base_uri": "https://localhost:8080/",
          "height": 74
        }
      },
      "source": [
        "import numpy as np\n",
        "import seaborn as sns\n",
        "import pandas as pd\n",
        "import matplotlib.pyplot as plt\n"
      ],
      "execution_count": 0,
      "outputs": [
        {
          "output_type": "stream",
          "text": [
            "/usr/local/lib/python3.6/dist-packages/statsmodels/tools/_testing.py:19: FutureWarning: pandas.util.testing is deprecated. Use the functions in the public API at pandas.testing instead.\n",
            "  import pandas.util.testing as tm\n"
          ],
          "name": "stderr"
        }
      ]
    },
    {
      "cell_type": "code",
      "metadata": {
        "id": "cv0OzuP6Kaci",
        "colab_type": "code",
        "outputId": "de55fa23-a44c-4bdb-e864-91693ab25902",
        "colab": {
          "base_uri": "https://localhost:8080/",
          "height": 74
        }
      },
      "source": [
        "df = pd.read_csv('lending/loan.csv')"
      ],
      "execution_count": 0,
      "outputs": [
        {
          "output_type": "stream",
          "text": [
            "/usr/local/lib/python3.6/dist-packages/IPython/core/interactiveshell.py:2718: DtypeWarning: Columns (19,47,55,112,123,124,125,128,129,130,133,139,140,141) have mixed types.Specify dtype option on import or set low_memory=False.\n",
            "  interactivity=interactivity, compiler=compiler, result=result)\n"
          ],
          "name": "stderr"
        }
      ]
    },
    {
      "cell_type": "code",
      "metadata": {
        "id": "cjzYJkSPUF2S",
        "colab_type": "code",
        "outputId": "c67f7588-e3ac-47c9-e6a6-a2fdb0b760bc",
        "colab": {
          "base_uri": "https://localhost:8080/",
          "height": 111
        }
      },
      "source": [
        "df.info()"
      ],
      "execution_count": 0,
      "outputs": [
        {
          "output_type": "stream",
          "text": [
            "<class 'pandas.core.frame.DataFrame'>\n",
            "RangeIndex: 2260668 entries, 0 to 2260667\n",
            "Columns: 145 entries, id to settlement_term\n",
            "dtypes: float64(105), int64(4), object(36)\n",
            "memory usage: 2.4+ GB\n"
          ],
          "name": "stdout"
        }
      ]
    },
    {
      "cell_type": "code",
      "metadata": {
        "id": "9iz5-BF0UTRa",
        "colab_type": "code",
        "colab": {}
      },
      "source": [
        "pd.set_option('max_info_columns',1000) #option to display all columns"
      ],
      "execution_count": 0,
      "outputs": []
    },
    {
      "cell_type": "code",
      "metadata": {
        "id": "cdURyXXQUjpV",
        "colab_type": "code",
        "outputId": "55b772fd-b009-4309-e868-53b3abe11857",
        "colab": {
          "base_uri": "https://localhost:8080/",
          "height": 1000
        }
      },
      "source": [
        "df.info()\n"
      ],
      "execution_count": 0,
      "outputs": [
        {
          "output_type": "stream",
          "text": [
            "<class 'pandas.core.frame.DataFrame'>\n",
            "RangeIndex: 2260668 entries, 0 to 2260667\n",
            "Data columns (total 145 columns):\n",
            " #   Column                                      Dtype  \n",
            "---  ------                                      -----  \n",
            " 0   id                                          float64\n",
            " 1   member_id                                   float64\n",
            " 2   loan_amnt                                   int64  \n",
            " 3   funded_amnt                                 int64  \n",
            " 4   funded_amnt_inv                             float64\n",
            " 5   term                                        object \n",
            " 6   int_rate                                    float64\n",
            " 7   installment                                 float64\n",
            " 8   grade                                       object \n",
            " 9   sub_grade                                   object \n",
            " 10  emp_title                                   object \n",
            " 11  emp_length                                  object \n",
            " 12  home_ownership                              object \n",
            " 13  annual_inc                                  float64\n",
            " 14  verification_status                         object \n",
            " 15  issue_d                                     object \n",
            " 16  loan_status                                 object \n",
            " 17  pymnt_plan                                  object \n",
            " 18  url                                         float64\n",
            " 19  desc                                        object \n",
            " 20  purpose                                     object \n",
            " 21  title                                       object \n",
            " 22  zip_code                                    object \n",
            " 23  addr_state                                  object \n",
            " 24  dti                                         float64\n",
            " 25  delinq_2yrs                                 float64\n",
            " 26  earliest_cr_line                            object \n",
            " 27  inq_last_6mths                              float64\n",
            " 28  mths_since_last_delinq                      float64\n",
            " 29  mths_since_last_record                      float64\n",
            " 30  open_acc                                    float64\n",
            " 31  pub_rec                                     float64\n",
            " 32  revol_bal                                   int64  \n",
            " 33  revol_util                                  float64\n",
            " 34  total_acc                                   float64\n",
            " 35  initial_list_status                         object \n",
            " 36  out_prncp                                   float64\n",
            " 37  out_prncp_inv                               float64\n",
            " 38  total_pymnt                                 float64\n",
            " 39  total_pymnt_inv                             float64\n",
            " 40  total_rec_prncp                             float64\n",
            " 41  total_rec_int                               float64\n",
            " 42  total_rec_late_fee                          float64\n",
            " 43  recoveries                                  float64\n",
            " 44  collection_recovery_fee                     float64\n",
            " 45  last_pymnt_d                                object \n",
            " 46  last_pymnt_amnt                             float64\n",
            " 47  next_pymnt_d                                object \n",
            " 48  last_credit_pull_d                          object \n",
            " 49  collections_12_mths_ex_med                  float64\n",
            " 50  mths_since_last_major_derog                 float64\n",
            " 51  policy_code                                 int64  \n",
            " 52  application_type                            object \n",
            " 53  annual_inc_joint                            float64\n",
            " 54  dti_joint                                   float64\n",
            " 55  verification_status_joint                   object \n",
            " 56  acc_now_delinq                              float64\n",
            " 57  tot_coll_amt                                float64\n",
            " 58  tot_cur_bal                                 float64\n",
            " 59  open_acc_6m                                 float64\n",
            " 60  open_act_il                                 float64\n",
            " 61  open_il_12m                                 float64\n",
            " 62  open_il_24m                                 float64\n",
            " 63  mths_since_rcnt_il                          float64\n",
            " 64  total_bal_il                                float64\n",
            " 65  il_util                                     float64\n",
            " 66  open_rv_12m                                 float64\n",
            " 67  open_rv_24m                                 float64\n",
            " 68  max_bal_bc                                  float64\n",
            " 69  all_util                                    float64\n",
            " 70  total_rev_hi_lim                            float64\n",
            " 71  inq_fi                                      float64\n",
            " 72  total_cu_tl                                 float64\n",
            " 73  inq_last_12m                                float64\n",
            " 74  acc_open_past_24mths                        float64\n",
            " 75  avg_cur_bal                                 float64\n",
            " 76  bc_open_to_buy                              float64\n",
            " 77  bc_util                                     float64\n",
            " 78  chargeoff_within_12_mths                    float64\n",
            " 79  delinq_amnt                                 float64\n",
            " 80  mo_sin_old_il_acct                          float64\n",
            " 81  mo_sin_old_rev_tl_op                        float64\n",
            " 82  mo_sin_rcnt_rev_tl_op                       float64\n",
            " 83  mo_sin_rcnt_tl                              float64\n",
            " 84  mort_acc                                    float64\n",
            " 85  mths_since_recent_bc                        float64\n",
            " 86  mths_since_recent_bc_dlq                    float64\n",
            " 87  mths_since_recent_inq                       float64\n",
            " 88  mths_since_recent_revol_delinq              float64\n",
            " 89  num_accts_ever_120_pd                       float64\n",
            " 90  num_actv_bc_tl                              float64\n",
            " 91  num_actv_rev_tl                             float64\n",
            " 92  num_bc_sats                                 float64\n",
            " 93  num_bc_tl                                   float64\n",
            " 94  num_il_tl                                   float64\n",
            " 95  num_op_rev_tl                               float64\n",
            " 96  num_rev_accts                               float64\n",
            " 97  num_rev_tl_bal_gt_0                         float64\n",
            " 98  num_sats                                    float64\n",
            " 99  num_tl_120dpd_2m                            float64\n",
            " 100 num_tl_30dpd                                float64\n",
            " 101 num_tl_90g_dpd_24m                          float64\n",
            " 102 num_tl_op_past_12m                          float64\n",
            " 103 pct_tl_nvr_dlq                              float64\n",
            " 104 percent_bc_gt_75                            float64\n",
            " 105 pub_rec_bankruptcies                        float64\n",
            " 106 tax_liens                                   float64\n",
            " 107 tot_hi_cred_lim                             float64\n",
            " 108 total_bal_ex_mort                           float64\n",
            " 109 total_bc_limit                              float64\n",
            " 110 total_il_high_credit_limit                  float64\n",
            " 111 revol_bal_joint                             float64\n",
            " 112 sec_app_earliest_cr_line                    object \n",
            " 113 sec_app_inq_last_6mths                      float64\n",
            " 114 sec_app_mort_acc                            float64\n",
            " 115 sec_app_open_acc                            float64\n",
            " 116 sec_app_revol_util                          float64\n",
            " 117 sec_app_open_act_il                         float64\n",
            " 118 sec_app_num_rev_accts                       float64\n",
            " 119 sec_app_chargeoff_within_12_mths            float64\n",
            " 120 sec_app_collections_12_mths_ex_med          float64\n",
            " 121 sec_app_mths_since_last_major_derog         float64\n",
            " 122 hardship_flag                               object \n",
            " 123 hardship_type                               object \n",
            " 124 hardship_reason                             object \n",
            " 125 hardship_status                             object \n",
            " 126 deferral_term                               float64\n",
            " 127 hardship_amount                             float64\n",
            " 128 hardship_start_date                         object \n",
            " 129 hardship_end_date                           object \n",
            " 130 payment_plan_start_date                     object \n",
            " 131 hardship_length                             float64\n",
            " 132 hardship_dpd                                float64\n",
            " 133 hardship_loan_status                        object \n",
            " 134 orig_projected_additional_accrued_interest  float64\n",
            " 135 hardship_payoff_balance_amount              float64\n",
            " 136 hardship_last_payment_amount                float64\n",
            " 137 disbursement_method                         object \n",
            " 138 debt_settlement_flag                        object \n",
            " 139 debt_settlement_flag_date                   object \n",
            " 140 settlement_status                           object \n",
            " 141 settlement_date                             object \n",
            " 142 settlement_amount                           float64\n",
            " 143 settlement_percentage                       float64\n",
            " 144 settlement_term                             float64\n",
            "dtypes: float64(105), int64(4), object(36)\n",
            "memory usage: 2.4+ GB\n"
          ],
          "name": "stdout"
        }
      ]
    },
    {
      "cell_type": "code",
      "metadata": {
        "id": "2iHCMiFWVYD0",
        "colab_type": "code",
        "outputId": "ca339c07-b006-4fae-c0a5-d375f41dc597",
        "colab": {
          "base_uri": "https://localhost:8080/",
          "height": 196
        }
      },
      "source": [
        "df.head(2)"
      ],
      "execution_count": 0,
      "outputs": [
        {
          "output_type": "execute_result",
          "data": {
            "text/html": [
              "<div>\n",
              "<style scoped>\n",
              "    .dataframe tbody tr th:only-of-type {\n",
              "        vertical-align: middle;\n",
              "    }\n",
              "\n",
              "    .dataframe tbody tr th {\n",
              "        vertical-align: top;\n",
              "    }\n",
              "\n",
              "    .dataframe thead th {\n",
              "        text-align: right;\n",
              "    }\n",
              "</style>\n",
              "<table border=\"1\" class=\"dataframe\">\n",
              "  <thead>\n",
              "    <tr style=\"text-align: right;\">\n",
              "      <th></th>\n",
              "      <th>id</th>\n",
              "      <th>member_id</th>\n",
              "      <th>loan_amnt</th>\n",
              "      <th>funded_amnt</th>\n",
              "      <th>funded_amnt_inv</th>\n",
              "      <th>term</th>\n",
              "      <th>int_rate</th>\n",
              "      <th>installment</th>\n",
              "      <th>grade</th>\n",
              "      <th>sub_grade</th>\n",
              "      <th>emp_title</th>\n",
              "      <th>emp_length</th>\n",
              "      <th>home_ownership</th>\n",
              "      <th>annual_inc</th>\n",
              "      <th>verification_status</th>\n",
              "      <th>issue_d</th>\n",
              "      <th>loan_status</th>\n",
              "      <th>pymnt_plan</th>\n",
              "      <th>url</th>\n",
              "      <th>desc</th>\n",
              "      <th>purpose</th>\n",
              "      <th>title</th>\n",
              "      <th>zip_code</th>\n",
              "      <th>addr_state</th>\n",
              "      <th>dti</th>\n",
              "      <th>delinq_2yrs</th>\n",
              "      <th>earliest_cr_line</th>\n",
              "      <th>inq_last_6mths</th>\n",
              "      <th>mths_since_last_delinq</th>\n",
              "      <th>mths_since_last_record</th>\n",
              "      <th>open_acc</th>\n",
              "      <th>pub_rec</th>\n",
              "      <th>revol_bal</th>\n",
              "      <th>revol_util</th>\n",
              "      <th>total_acc</th>\n",
              "      <th>initial_list_status</th>\n",
              "      <th>out_prncp</th>\n",
              "      <th>out_prncp_inv</th>\n",
              "      <th>total_pymnt</th>\n",
              "      <th>total_pymnt_inv</th>\n",
              "      <th>...</th>\n",
              "      <th>pub_rec_bankruptcies</th>\n",
              "      <th>tax_liens</th>\n",
              "      <th>tot_hi_cred_lim</th>\n",
              "      <th>total_bal_ex_mort</th>\n",
              "      <th>total_bc_limit</th>\n",
              "      <th>total_il_high_credit_limit</th>\n",
              "      <th>revol_bal_joint</th>\n",
              "      <th>sec_app_earliest_cr_line</th>\n",
              "      <th>sec_app_inq_last_6mths</th>\n",
              "      <th>sec_app_mort_acc</th>\n",
              "      <th>sec_app_open_acc</th>\n",
              "      <th>sec_app_revol_util</th>\n",
              "      <th>sec_app_open_act_il</th>\n",
              "      <th>sec_app_num_rev_accts</th>\n",
              "      <th>sec_app_chargeoff_within_12_mths</th>\n",
              "      <th>sec_app_collections_12_mths_ex_med</th>\n",
              "      <th>sec_app_mths_since_last_major_derog</th>\n",
              "      <th>hardship_flag</th>\n",
              "      <th>hardship_type</th>\n",
              "      <th>hardship_reason</th>\n",
              "      <th>hardship_status</th>\n",
              "      <th>deferral_term</th>\n",
              "      <th>hardship_amount</th>\n",
              "      <th>hardship_start_date</th>\n",
              "      <th>hardship_end_date</th>\n",
              "      <th>payment_plan_start_date</th>\n",
              "      <th>hardship_length</th>\n",
              "      <th>hardship_dpd</th>\n",
              "      <th>hardship_loan_status</th>\n",
              "      <th>orig_projected_additional_accrued_interest</th>\n",
              "      <th>hardship_payoff_balance_amount</th>\n",
              "      <th>hardship_last_payment_amount</th>\n",
              "      <th>disbursement_method</th>\n",
              "      <th>debt_settlement_flag</th>\n",
              "      <th>debt_settlement_flag_date</th>\n",
              "      <th>settlement_status</th>\n",
              "      <th>settlement_date</th>\n",
              "      <th>settlement_amount</th>\n",
              "      <th>settlement_percentage</th>\n",
              "      <th>settlement_term</th>\n",
              "    </tr>\n",
              "  </thead>\n",
              "  <tbody>\n",
              "    <tr>\n",
              "      <th>0</th>\n",
              "      <td>NaN</td>\n",
              "      <td>NaN</td>\n",
              "      <td>2500</td>\n",
              "      <td>2500</td>\n",
              "      <td>2500.0</td>\n",
              "      <td>36 months</td>\n",
              "      <td>13.56</td>\n",
              "      <td>84.92</td>\n",
              "      <td>C</td>\n",
              "      <td>C1</td>\n",
              "      <td>Chef</td>\n",
              "      <td>10+ years</td>\n",
              "      <td>RENT</td>\n",
              "      <td>55000.0</td>\n",
              "      <td>Not Verified</td>\n",
              "      <td>Dec-2018</td>\n",
              "      <td>Current</td>\n",
              "      <td>n</td>\n",
              "      <td>NaN</td>\n",
              "      <td>NaN</td>\n",
              "      <td>debt_consolidation</td>\n",
              "      <td>Debt consolidation</td>\n",
              "      <td>109xx</td>\n",
              "      <td>NY</td>\n",
              "      <td>18.24</td>\n",
              "      <td>0.0</td>\n",
              "      <td>Apr-2001</td>\n",
              "      <td>1.0</td>\n",
              "      <td>NaN</td>\n",
              "      <td>45.0</td>\n",
              "      <td>9.0</td>\n",
              "      <td>1.0</td>\n",
              "      <td>4341</td>\n",
              "      <td>10.3</td>\n",
              "      <td>34.0</td>\n",
              "      <td>w</td>\n",
              "      <td>2386.02</td>\n",
              "      <td>2386.02</td>\n",
              "      <td>167.02</td>\n",
              "      <td>167.02</td>\n",
              "      <td>...</td>\n",
              "      <td>1.0</td>\n",
              "      <td>0.0</td>\n",
              "      <td>60124.0</td>\n",
              "      <td>16901.0</td>\n",
              "      <td>36500.0</td>\n",
              "      <td>18124.0</td>\n",
              "      <td>NaN</td>\n",
              "      <td>NaN</td>\n",
              "      <td>NaN</td>\n",
              "      <td>NaN</td>\n",
              "      <td>NaN</td>\n",
              "      <td>NaN</td>\n",
              "      <td>NaN</td>\n",
              "      <td>NaN</td>\n",
              "      <td>NaN</td>\n",
              "      <td>NaN</td>\n",
              "      <td>NaN</td>\n",
              "      <td>N</td>\n",
              "      <td>NaN</td>\n",
              "      <td>NaN</td>\n",
              "      <td>NaN</td>\n",
              "      <td>NaN</td>\n",
              "      <td>NaN</td>\n",
              "      <td>NaN</td>\n",
              "      <td>NaN</td>\n",
              "      <td>NaN</td>\n",
              "      <td>NaN</td>\n",
              "      <td>NaN</td>\n",
              "      <td>NaN</td>\n",
              "      <td>NaN</td>\n",
              "      <td>NaN</td>\n",
              "      <td>NaN</td>\n",
              "      <td>Cash</td>\n",
              "      <td>N</td>\n",
              "      <td>NaN</td>\n",
              "      <td>NaN</td>\n",
              "      <td>NaN</td>\n",
              "      <td>NaN</td>\n",
              "      <td>NaN</td>\n",
              "      <td>NaN</td>\n",
              "    </tr>\n",
              "    <tr>\n",
              "      <th>1</th>\n",
              "      <td>NaN</td>\n",
              "      <td>NaN</td>\n",
              "      <td>30000</td>\n",
              "      <td>30000</td>\n",
              "      <td>30000.0</td>\n",
              "      <td>60 months</td>\n",
              "      <td>18.94</td>\n",
              "      <td>777.23</td>\n",
              "      <td>D</td>\n",
              "      <td>D2</td>\n",
              "      <td>Postmaster</td>\n",
              "      <td>10+ years</td>\n",
              "      <td>MORTGAGE</td>\n",
              "      <td>90000.0</td>\n",
              "      <td>Source Verified</td>\n",
              "      <td>Dec-2018</td>\n",
              "      <td>Current</td>\n",
              "      <td>n</td>\n",
              "      <td>NaN</td>\n",
              "      <td>NaN</td>\n",
              "      <td>debt_consolidation</td>\n",
              "      <td>Debt consolidation</td>\n",
              "      <td>713xx</td>\n",
              "      <td>LA</td>\n",
              "      <td>26.52</td>\n",
              "      <td>0.0</td>\n",
              "      <td>Jun-1987</td>\n",
              "      <td>0.0</td>\n",
              "      <td>71.0</td>\n",
              "      <td>75.0</td>\n",
              "      <td>13.0</td>\n",
              "      <td>1.0</td>\n",
              "      <td>12315</td>\n",
              "      <td>24.2</td>\n",
              "      <td>44.0</td>\n",
              "      <td>w</td>\n",
              "      <td>29387.75</td>\n",
              "      <td>29387.75</td>\n",
              "      <td>1507.11</td>\n",
              "      <td>1507.11</td>\n",
              "      <td>...</td>\n",
              "      <td>1.0</td>\n",
              "      <td>0.0</td>\n",
              "      <td>372872.0</td>\n",
              "      <td>99468.0</td>\n",
              "      <td>15000.0</td>\n",
              "      <td>94072.0</td>\n",
              "      <td>NaN</td>\n",
              "      <td>NaN</td>\n",
              "      <td>NaN</td>\n",
              "      <td>NaN</td>\n",
              "      <td>NaN</td>\n",
              "      <td>NaN</td>\n",
              "      <td>NaN</td>\n",
              "      <td>NaN</td>\n",
              "      <td>NaN</td>\n",
              "      <td>NaN</td>\n",
              "      <td>NaN</td>\n",
              "      <td>N</td>\n",
              "      <td>NaN</td>\n",
              "      <td>NaN</td>\n",
              "      <td>NaN</td>\n",
              "      <td>NaN</td>\n",
              "      <td>NaN</td>\n",
              "      <td>NaN</td>\n",
              "      <td>NaN</td>\n",
              "      <td>NaN</td>\n",
              "      <td>NaN</td>\n",
              "      <td>NaN</td>\n",
              "      <td>NaN</td>\n",
              "      <td>NaN</td>\n",
              "      <td>NaN</td>\n",
              "      <td>NaN</td>\n",
              "      <td>Cash</td>\n",
              "      <td>N</td>\n",
              "      <td>NaN</td>\n",
              "      <td>NaN</td>\n",
              "      <td>NaN</td>\n",
              "      <td>NaN</td>\n",
              "      <td>NaN</td>\n",
              "      <td>NaN</td>\n",
              "    </tr>\n",
              "  </tbody>\n",
              "</table>\n",
              "<p>2 rows × 145 columns</p>\n",
              "</div>"
            ],
            "text/plain": [
              "   id  member_id  ...  settlement_percentage  settlement_term\n",
              "0 NaN        NaN  ...                    NaN              NaN\n",
              "1 NaN        NaN  ...                    NaN              NaN\n",
              "\n",
              "[2 rows x 145 columns]"
            ]
          },
          "metadata": {
            "tags": []
          },
          "execution_count": 11
        }
      ]
    },
    {
      "cell_type": "code",
      "metadata": {
        "id": "9iAM-1QrXHY6",
        "colab_type": "code",
        "colab": {}
      },
      "source": [
        "data= df[list(set('loan_amnt \tterm \tint_rate \tinstallment \tgrade \tsub_grade \temp_title \temp_length \thome_ownership \thome_ownership annual_inc \tverification_status \tissue_d last_pymnt_d settlement_date \tloan_status purpose \ttitle \tzip_code \taddr_state \tdti open_acc \tpub_rec \trevol_bal \trevol_util \ttotal_acc \tinitial_list_status \tout_prncp \ttotal_pymnt last_pymnt_amnt    tot_cur_bal       settlement_amount  tot_coll_amt total_pymnt  total_rec_int  total_rec_late_fee  total_rec_prncp   total_rec_late_fee       collection_recovery_fee   '.split())) ]"
      ],
      "execution_count": 0,
      "outputs": []
    },
    {
      "cell_type": "code",
      "metadata": {
        "id": "q6WWApxviEQX",
        "colab_type": "code",
        "outputId": "b90bba13-d55e-4b40-b058-a82e82e73b71",
        "colab": {
          "base_uri": "https://localhost:8080/",
          "height": 823
        }
      },
      "source": [
        "data.info()"
      ],
      "execution_count": 0,
      "outputs": [
        {
          "output_type": "stream",
          "text": [
            "<class 'pandas.core.frame.DataFrame'>\n",
            "RangeIndex: 2260668 entries, 0 to 2260667\n",
            "Data columns (total 36 columns):\n",
            " #   Column                   Dtype  \n",
            "---  ------                   -----  \n",
            " 0   annual_inc               float64\n",
            " 1   emp_length               object \n",
            " 2   zip_code                 object \n",
            " 3   addr_state               object \n",
            " 4   total_rec_int            float64\n",
            " 5   issue_d                  object \n",
            " 6   last_pymnt_d             object \n",
            " 7   installment              float64\n",
            " 8   home_ownership           object \n",
            " 9   title                    object \n",
            " 10  revol_bal                int64  \n",
            " 11  loan_status              object \n",
            " 12  total_pymnt              float64\n",
            " 13  total_acc                float64\n",
            " 14  int_rate                 float64\n",
            " 15  tot_cur_bal              float64\n",
            " 16  tot_coll_amt             float64\n",
            " 17  emp_title                object \n",
            " 18  loan_amnt                int64  \n",
            " 19  pub_rec                  float64\n",
            " 20  total_rec_late_fee       float64\n",
            " 21  grade                    object \n",
            " 22  settlement_amount        float64\n",
            " 23  settlement_date          object \n",
            " 24  total_rec_prncp          float64\n",
            " 25  sub_grade                object \n",
            " 26  dti                      float64\n",
            " 27  verification_status      object \n",
            " 28  out_prncp                float64\n",
            " 29  open_acc                 float64\n",
            " 30  revol_util               float64\n",
            " 31  purpose                  object \n",
            " 32  initial_list_status      object \n",
            " 33  last_pymnt_amnt          float64\n",
            " 34  collection_recovery_fee  float64\n",
            " 35  term                     object \n",
            "dtypes: float64(18), int64(2), object(16)\n",
            "memory usage: 620.9+ MB\n"
          ],
          "name": "stdout"
        }
      ]
    },
    {
      "cell_type": "markdown",
      "metadata": {
        "id": "chkPRhsflJ8n",
        "colab_type": "text"
      },
      "source": [
        "Group the loan amount to multiple of 5000 and study about relation in charged off and percentage of profit study about multiple small loans or one bigloan is more profitable "
      ]
    },
    {
      "cell_type": "code",
      "metadata": {
        "id": "3A6QruGhoCJY",
        "colab_type": "code",
        "colab": {}
      },
      "source": [
        "pd.set_option('display.max_columns', None) #Show all columns"
      ],
      "execution_count": 0,
      "outputs": []
    },
    {
      "cell_type": "code",
      "metadata": {
        "id": "R-r6_rzYnBS4",
        "colab_type": "code",
        "outputId": "82ae67a2-4131-41cc-f6a0-9f015e2e8068",
        "colab": {
          "base_uri": "https://localhost:8080/",
          "height": 167
        }
      },
      "source": [
        "df.head(2)\n"
      ],
      "execution_count": 0,
      "outputs": [
        {
          "output_type": "execute_result",
          "data": {
            "text/html": [
              "<div>\n",
              "<style scoped>\n",
              "    .dataframe tbody tr th:only-of-type {\n",
              "        vertical-align: middle;\n",
              "    }\n",
              "\n",
              "    .dataframe tbody tr th {\n",
              "        vertical-align: top;\n",
              "    }\n",
              "\n",
              "    .dataframe thead th {\n",
              "        text-align: right;\n",
              "    }\n",
              "</style>\n",
              "<table border=\"1\" class=\"dataframe\">\n",
              "  <thead>\n",
              "    <tr style=\"text-align: right;\">\n",
              "      <th></th>\n",
              "      <th>id</th>\n",
              "      <th>member_id</th>\n",
              "      <th>loan_amnt</th>\n",
              "      <th>funded_amnt</th>\n",
              "      <th>funded_amnt_inv</th>\n",
              "      <th>term</th>\n",
              "      <th>int_rate</th>\n",
              "      <th>installment</th>\n",
              "      <th>grade</th>\n",
              "      <th>sub_grade</th>\n",
              "      <th>emp_title</th>\n",
              "      <th>emp_length</th>\n",
              "      <th>home_ownership</th>\n",
              "      <th>annual_inc</th>\n",
              "      <th>verification_status</th>\n",
              "      <th>issue_d</th>\n",
              "      <th>loan_status</th>\n",
              "      <th>pymnt_plan</th>\n",
              "      <th>url</th>\n",
              "      <th>desc</th>\n",
              "      <th>purpose</th>\n",
              "      <th>title</th>\n",
              "      <th>zip_code</th>\n",
              "      <th>addr_state</th>\n",
              "      <th>dti</th>\n",
              "      <th>delinq_2yrs</th>\n",
              "      <th>earliest_cr_line</th>\n",
              "      <th>inq_last_6mths</th>\n",
              "      <th>mths_since_last_delinq</th>\n",
              "      <th>mths_since_last_record</th>\n",
              "      <th>open_acc</th>\n",
              "      <th>pub_rec</th>\n",
              "      <th>revol_bal</th>\n",
              "      <th>revol_util</th>\n",
              "      <th>total_acc</th>\n",
              "      <th>initial_list_status</th>\n",
              "      <th>out_prncp</th>\n",
              "      <th>out_prncp_inv</th>\n",
              "      <th>total_pymnt</th>\n",
              "      <th>total_pymnt_inv</th>\n",
              "      <th>total_rec_prncp</th>\n",
              "      <th>total_rec_int</th>\n",
              "      <th>total_rec_late_fee</th>\n",
              "      <th>recoveries</th>\n",
              "      <th>collection_recovery_fee</th>\n",
              "      <th>last_pymnt_d</th>\n",
              "      <th>last_pymnt_amnt</th>\n",
              "      <th>next_pymnt_d</th>\n",
              "      <th>last_credit_pull_d</th>\n",
              "      <th>collections_12_mths_ex_med</th>\n",
              "      <th>mths_since_last_major_derog</th>\n",
              "      <th>policy_code</th>\n",
              "      <th>application_type</th>\n",
              "      <th>annual_inc_joint</th>\n",
              "      <th>dti_joint</th>\n",
              "      <th>verification_status_joint</th>\n",
              "      <th>acc_now_delinq</th>\n",
              "      <th>tot_coll_amt</th>\n",
              "      <th>tot_cur_bal</th>\n",
              "      <th>open_acc_6m</th>\n",
              "      <th>open_act_il</th>\n",
              "      <th>open_il_12m</th>\n",
              "      <th>open_il_24m</th>\n",
              "      <th>mths_since_rcnt_il</th>\n",
              "      <th>total_bal_il</th>\n",
              "      <th>il_util</th>\n",
              "      <th>open_rv_12m</th>\n",
              "      <th>open_rv_24m</th>\n",
              "      <th>max_bal_bc</th>\n",
              "      <th>all_util</th>\n",
              "      <th>total_rev_hi_lim</th>\n",
              "      <th>inq_fi</th>\n",
              "      <th>total_cu_tl</th>\n",
              "      <th>inq_last_12m</th>\n",
              "      <th>acc_open_past_24mths</th>\n",
              "      <th>avg_cur_bal</th>\n",
              "      <th>bc_open_to_buy</th>\n",
              "      <th>bc_util</th>\n",
              "      <th>chargeoff_within_12_mths</th>\n",
              "      <th>delinq_amnt</th>\n",
              "      <th>mo_sin_old_il_acct</th>\n",
              "      <th>mo_sin_old_rev_tl_op</th>\n",
              "      <th>mo_sin_rcnt_rev_tl_op</th>\n",
              "      <th>mo_sin_rcnt_tl</th>\n",
              "      <th>mort_acc</th>\n",
              "      <th>mths_since_recent_bc</th>\n",
              "      <th>mths_since_recent_bc_dlq</th>\n",
              "      <th>mths_since_recent_inq</th>\n",
              "      <th>mths_since_recent_revol_delinq</th>\n",
              "      <th>num_accts_ever_120_pd</th>\n",
              "      <th>num_actv_bc_tl</th>\n",
              "      <th>num_actv_rev_tl</th>\n",
              "      <th>num_bc_sats</th>\n",
              "      <th>num_bc_tl</th>\n",
              "      <th>num_il_tl</th>\n",
              "      <th>num_op_rev_tl</th>\n",
              "      <th>num_rev_accts</th>\n",
              "      <th>num_rev_tl_bal_gt_0</th>\n",
              "      <th>num_sats</th>\n",
              "      <th>num_tl_120dpd_2m</th>\n",
              "      <th>num_tl_30dpd</th>\n",
              "      <th>num_tl_90g_dpd_24m</th>\n",
              "      <th>num_tl_op_past_12m</th>\n",
              "      <th>pct_tl_nvr_dlq</th>\n",
              "      <th>percent_bc_gt_75</th>\n",
              "      <th>pub_rec_bankruptcies</th>\n",
              "      <th>tax_liens</th>\n",
              "      <th>tot_hi_cred_lim</th>\n",
              "      <th>total_bal_ex_mort</th>\n",
              "      <th>total_bc_limit</th>\n",
              "      <th>total_il_high_credit_limit</th>\n",
              "      <th>revol_bal_joint</th>\n",
              "      <th>sec_app_earliest_cr_line</th>\n",
              "      <th>sec_app_inq_last_6mths</th>\n",
              "      <th>sec_app_mort_acc</th>\n",
              "      <th>sec_app_open_acc</th>\n",
              "      <th>sec_app_revol_util</th>\n",
              "      <th>sec_app_open_act_il</th>\n",
              "      <th>sec_app_num_rev_accts</th>\n",
              "      <th>sec_app_chargeoff_within_12_mths</th>\n",
              "      <th>sec_app_collections_12_mths_ex_med</th>\n",
              "      <th>sec_app_mths_since_last_major_derog</th>\n",
              "      <th>hardship_flag</th>\n",
              "      <th>hardship_type</th>\n",
              "      <th>hardship_reason</th>\n",
              "      <th>hardship_status</th>\n",
              "      <th>deferral_term</th>\n",
              "      <th>hardship_amount</th>\n",
              "      <th>hardship_start_date</th>\n",
              "      <th>hardship_end_date</th>\n",
              "      <th>payment_plan_start_date</th>\n",
              "      <th>hardship_length</th>\n",
              "      <th>hardship_dpd</th>\n",
              "      <th>hardship_loan_status</th>\n",
              "      <th>orig_projected_additional_accrued_interest</th>\n",
              "      <th>hardship_payoff_balance_amount</th>\n",
              "      <th>hardship_last_payment_amount</th>\n",
              "      <th>disbursement_method</th>\n",
              "      <th>debt_settlement_flag</th>\n",
              "      <th>debt_settlement_flag_date</th>\n",
              "      <th>settlement_status</th>\n",
              "      <th>settlement_date</th>\n",
              "      <th>settlement_amount</th>\n",
              "      <th>settlement_percentage</th>\n",
              "      <th>settlement_term</th>\n",
              "    </tr>\n",
              "  </thead>\n",
              "  <tbody>\n",
              "    <tr>\n",
              "      <th>0</th>\n",
              "      <td>NaN</td>\n",
              "      <td>NaN</td>\n",
              "      <td>2500</td>\n",
              "      <td>2500</td>\n",
              "      <td>2500.0</td>\n",
              "      <td>36 months</td>\n",
              "      <td>13.56</td>\n",
              "      <td>84.92</td>\n",
              "      <td>C</td>\n",
              "      <td>C1</td>\n",
              "      <td>Chef</td>\n",
              "      <td>10+ years</td>\n",
              "      <td>RENT</td>\n",
              "      <td>55000.0</td>\n",
              "      <td>Not Verified</td>\n",
              "      <td>Dec-2018</td>\n",
              "      <td>Current</td>\n",
              "      <td>n</td>\n",
              "      <td>NaN</td>\n",
              "      <td>NaN</td>\n",
              "      <td>debt_consolidation</td>\n",
              "      <td>Debt consolidation</td>\n",
              "      <td>109xx</td>\n",
              "      <td>NY</td>\n",
              "      <td>18.24</td>\n",
              "      <td>0.0</td>\n",
              "      <td>Apr-2001</td>\n",
              "      <td>1.0</td>\n",
              "      <td>NaN</td>\n",
              "      <td>45.0</td>\n",
              "      <td>9.0</td>\n",
              "      <td>1.0</td>\n",
              "      <td>4341</td>\n",
              "      <td>10.3</td>\n",
              "      <td>34.0</td>\n",
              "      <td>w</td>\n",
              "      <td>2386.02</td>\n",
              "      <td>2386.02</td>\n",
              "      <td>167.02</td>\n",
              "      <td>167.02</td>\n",
              "      <td>113.98</td>\n",
              "      <td>53.04</td>\n",
              "      <td>0.0</td>\n",
              "      <td>0.0</td>\n",
              "      <td>0.0</td>\n",
              "      <td>Feb-2019</td>\n",
              "      <td>84.92</td>\n",
              "      <td>Mar-2019</td>\n",
              "      <td>Feb-2019</td>\n",
              "      <td>0.0</td>\n",
              "      <td>NaN</td>\n",
              "      <td>1</td>\n",
              "      <td>Individual</td>\n",
              "      <td>NaN</td>\n",
              "      <td>NaN</td>\n",
              "      <td>NaN</td>\n",
              "      <td>0.0</td>\n",
              "      <td>0.0</td>\n",
              "      <td>16901.0</td>\n",
              "      <td>2.0</td>\n",
              "      <td>2.0</td>\n",
              "      <td>1.0</td>\n",
              "      <td>2.0</td>\n",
              "      <td>2.0</td>\n",
              "      <td>12560.0</td>\n",
              "      <td>69.0</td>\n",
              "      <td>2.0</td>\n",
              "      <td>7.0</td>\n",
              "      <td>2137.0</td>\n",
              "      <td>28.0</td>\n",
              "      <td>42000.0</td>\n",
              "      <td>1.0</td>\n",
              "      <td>11.0</td>\n",
              "      <td>2.0</td>\n",
              "      <td>9.0</td>\n",
              "      <td>1878.0</td>\n",
              "      <td>34360.0</td>\n",
              "      <td>5.9</td>\n",
              "      <td>0.0</td>\n",
              "      <td>0.0</td>\n",
              "      <td>140.0</td>\n",
              "      <td>212.0</td>\n",
              "      <td>1.0</td>\n",
              "      <td>1.0</td>\n",
              "      <td>0.0</td>\n",
              "      <td>1.0</td>\n",
              "      <td>NaN</td>\n",
              "      <td>2.0</td>\n",
              "      <td>NaN</td>\n",
              "      <td>0.0</td>\n",
              "      <td>2.0</td>\n",
              "      <td>5.0</td>\n",
              "      <td>3.0</td>\n",
              "      <td>3.0</td>\n",
              "      <td>16.0</td>\n",
              "      <td>7.0</td>\n",
              "      <td>18.0</td>\n",
              "      <td>5.0</td>\n",
              "      <td>9.0</td>\n",
              "      <td>0.0</td>\n",
              "      <td>0.0</td>\n",
              "      <td>0.0</td>\n",
              "      <td>3.0</td>\n",
              "      <td>100.0</td>\n",
              "      <td>0.0</td>\n",
              "      <td>1.0</td>\n",
              "      <td>0.0</td>\n",
              "      <td>60124.0</td>\n",
              "      <td>16901.0</td>\n",
              "      <td>36500.0</td>\n",
              "      <td>18124.0</td>\n",
              "      <td>NaN</td>\n",
              "      <td>NaN</td>\n",
              "      <td>NaN</td>\n",
              "      <td>NaN</td>\n",
              "      <td>NaN</td>\n",
              "      <td>NaN</td>\n",
              "      <td>NaN</td>\n",
              "      <td>NaN</td>\n",
              "      <td>NaN</td>\n",
              "      <td>NaN</td>\n",
              "      <td>NaN</td>\n",
              "      <td>N</td>\n",
              "      <td>NaN</td>\n",
              "      <td>NaN</td>\n",
              "      <td>NaN</td>\n",
              "      <td>NaN</td>\n",
              "      <td>NaN</td>\n",
              "      <td>NaN</td>\n",
              "      <td>NaN</td>\n",
              "      <td>NaN</td>\n",
              "      <td>NaN</td>\n",
              "      <td>NaN</td>\n",
              "      <td>NaN</td>\n",
              "      <td>NaN</td>\n",
              "      <td>NaN</td>\n",
              "      <td>NaN</td>\n",
              "      <td>Cash</td>\n",
              "      <td>N</td>\n",
              "      <td>NaN</td>\n",
              "      <td>NaN</td>\n",
              "      <td>NaN</td>\n",
              "      <td>NaN</td>\n",
              "      <td>NaN</td>\n",
              "      <td>NaN</td>\n",
              "    </tr>\n",
              "    <tr>\n",
              "      <th>1</th>\n",
              "      <td>NaN</td>\n",
              "      <td>NaN</td>\n",
              "      <td>30000</td>\n",
              "      <td>30000</td>\n",
              "      <td>30000.0</td>\n",
              "      <td>60 months</td>\n",
              "      <td>18.94</td>\n",
              "      <td>777.23</td>\n",
              "      <td>D</td>\n",
              "      <td>D2</td>\n",
              "      <td>Postmaster</td>\n",
              "      <td>10+ years</td>\n",
              "      <td>MORTGAGE</td>\n",
              "      <td>90000.0</td>\n",
              "      <td>Source Verified</td>\n",
              "      <td>Dec-2018</td>\n",
              "      <td>Current</td>\n",
              "      <td>n</td>\n",
              "      <td>NaN</td>\n",
              "      <td>NaN</td>\n",
              "      <td>debt_consolidation</td>\n",
              "      <td>Debt consolidation</td>\n",
              "      <td>713xx</td>\n",
              "      <td>LA</td>\n",
              "      <td>26.52</td>\n",
              "      <td>0.0</td>\n",
              "      <td>Jun-1987</td>\n",
              "      <td>0.0</td>\n",
              "      <td>71.0</td>\n",
              "      <td>75.0</td>\n",
              "      <td>13.0</td>\n",
              "      <td>1.0</td>\n",
              "      <td>12315</td>\n",
              "      <td>24.2</td>\n",
              "      <td>44.0</td>\n",
              "      <td>w</td>\n",
              "      <td>29387.75</td>\n",
              "      <td>29387.75</td>\n",
              "      <td>1507.11</td>\n",
              "      <td>1507.11</td>\n",
              "      <td>612.25</td>\n",
              "      <td>894.86</td>\n",
              "      <td>0.0</td>\n",
              "      <td>0.0</td>\n",
              "      <td>0.0</td>\n",
              "      <td>Feb-2019</td>\n",
              "      <td>777.23</td>\n",
              "      <td>Mar-2019</td>\n",
              "      <td>Feb-2019</td>\n",
              "      <td>0.0</td>\n",
              "      <td>NaN</td>\n",
              "      <td>1</td>\n",
              "      <td>Individual</td>\n",
              "      <td>NaN</td>\n",
              "      <td>NaN</td>\n",
              "      <td>NaN</td>\n",
              "      <td>0.0</td>\n",
              "      <td>1208.0</td>\n",
              "      <td>321915.0</td>\n",
              "      <td>4.0</td>\n",
              "      <td>4.0</td>\n",
              "      <td>2.0</td>\n",
              "      <td>3.0</td>\n",
              "      <td>3.0</td>\n",
              "      <td>87153.0</td>\n",
              "      <td>88.0</td>\n",
              "      <td>4.0</td>\n",
              "      <td>5.0</td>\n",
              "      <td>998.0</td>\n",
              "      <td>57.0</td>\n",
              "      <td>50800.0</td>\n",
              "      <td>2.0</td>\n",
              "      <td>15.0</td>\n",
              "      <td>2.0</td>\n",
              "      <td>10.0</td>\n",
              "      <td>24763.0</td>\n",
              "      <td>13761.0</td>\n",
              "      <td>8.3</td>\n",
              "      <td>0.0</td>\n",
              "      <td>0.0</td>\n",
              "      <td>163.0</td>\n",
              "      <td>378.0</td>\n",
              "      <td>4.0</td>\n",
              "      <td>3.0</td>\n",
              "      <td>3.0</td>\n",
              "      <td>4.0</td>\n",
              "      <td>NaN</td>\n",
              "      <td>4.0</td>\n",
              "      <td>NaN</td>\n",
              "      <td>0.0</td>\n",
              "      <td>2.0</td>\n",
              "      <td>4.0</td>\n",
              "      <td>4.0</td>\n",
              "      <td>9.0</td>\n",
              "      <td>27.0</td>\n",
              "      <td>8.0</td>\n",
              "      <td>14.0</td>\n",
              "      <td>4.0</td>\n",
              "      <td>13.0</td>\n",
              "      <td>0.0</td>\n",
              "      <td>0.0</td>\n",
              "      <td>0.0</td>\n",
              "      <td>6.0</td>\n",
              "      <td>95.0</td>\n",
              "      <td>0.0</td>\n",
              "      <td>1.0</td>\n",
              "      <td>0.0</td>\n",
              "      <td>372872.0</td>\n",
              "      <td>99468.0</td>\n",
              "      <td>15000.0</td>\n",
              "      <td>94072.0</td>\n",
              "      <td>NaN</td>\n",
              "      <td>NaN</td>\n",
              "      <td>NaN</td>\n",
              "      <td>NaN</td>\n",
              "      <td>NaN</td>\n",
              "      <td>NaN</td>\n",
              "      <td>NaN</td>\n",
              "      <td>NaN</td>\n",
              "      <td>NaN</td>\n",
              "      <td>NaN</td>\n",
              "      <td>NaN</td>\n",
              "      <td>N</td>\n",
              "      <td>NaN</td>\n",
              "      <td>NaN</td>\n",
              "      <td>NaN</td>\n",
              "      <td>NaN</td>\n",
              "      <td>NaN</td>\n",
              "      <td>NaN</td>\n",
              "      <td>NaN</td>\n",
              "      <td>NaN</td>\n",
              "      <td>NaN</td>\n",
              "      <td>NaN</td>\n",
              "      <td>NaN</td>\n",
              "      <td>NaN</td>\n",
              "      <td>NaN</td>\n",
              "      <td>NaN</td>\n",
              "      <td>Cash</td>\n",
              "      <td>N</td>\n",
              "      <td>NaN</td>\n",
              "      <td>NaN</td>\n",
              "      <td>NaN</td>\n",
              "      <td>NaN</td>\n",
              "      <td>NaN</td>\n",
              "      <td>NaN</td>\n",
              "    </tr>\n",
              "  </tbody>\n",
              "</table>\n",
              "</div>"
            ],
            "text/plain": [
              "   id  member_id  loan_amnt  funded_amnt  funded_amnt_inv        term  \\\n",
              "0 NaN        NaN       2500         2500           2500.0   36 months   \n",
              "1 NaN        NaN      30000        30000          30000.0   60 months   \n",
              "\n",
              "   int_rate  installment grade sub_grade    emp_title emp_length  \\\n",
              "0     13.56        84.92     C        C1         Chef  10+ years   \n",
              "1     18.94       777.23     D        D2  Postmaster   10+ years   \n",
              "\n",
              "  home_ownership  annual_inc verification_status   issue_d loan_status  \\\n",
              "0           RENT     55000.0        Not Verified  Dec-2018     Current   \n",
              "1       MORTGAGE     90000.0     Source Verified  Dec-2018     Current   \n",
              "\n",
              "  pymnt_plan  url desc             purpose               title zip_code  \\\n",
              "0          n  NaN  NaN  debt_consolidation  Debt consolidation    109xx   \n",
              "1          n  NaN  NaN  debt_consolidation  Debt consolidation    713xx   \n",
              "\n",
              "  addr_state    dti  delinq_2yrs earliest_cr_line  inq_last_6mths  \\\n",
              "0         NY  18.24          0.0         Apr-2001             1.0   \n",
              "1         LA  26.52          0.0         Jun-1987             0.0   \n",
              "\n",
              "   mths_since_last_delinq  mths_since_last_record  open_acc  pub_rec  \\\n",
              "0                     NaN                    45.0       9.0      1.0   \n",
              "1                    71.0                    75.0      13.0      1.0   \n",
              "\n",
              "   revol_bal  revol_util  total_acc initial_list_status  out_prncp  \\\n",
              "0       4341        10.3       34.0                   w    2386.02   \n",
              "1      12315        24.2       44.0                   w   29387.75   \n",
              "\n",
              "   out_prncp_inv  total_pymnt  total_pymnt_inv  total_rec_prncp  \\\n",
              "0        2386.02       167.02           167.02           113.98   \n",
              "1       29387.75      1507.11          1507.11           612.25   \n",
              "\n",
              "   total_rec_int  total_rec_late_fee  recoveries  collection_recovery_fee  \\\n",
              "0          53.04                 0.0         0.0                      0.0   \n",
              "1         894.86                 0.0         0.0                      0.0   \n",
              "\n",
              "  last_pymnt_d  last_pymnt_amnt next_pymnt_d last_credit_pull_d  \\\n",
              "0     Feb-2019            84.92     Mar-2019           Feb-2019   \n",
              "1     Feb-2019           777.23     Mar-2019           Feb-2019   \n",
              "\n",
              "   collections_12_mths_ex_med  mths_since_last_major_derog  policy_code  \\\n",
              "0                         0.0                          NaN            1   \n",
              "1                         0.0                          NaN            1   \n",
              "\n",
              "  application_type  annual_inc_joint  dti_joint verification_status_joint  \\\n",
              "0       Individual               NaN        NaN                       NaN   \n",
              "1       Individual               NaN        NaN                       NaN   \n",
              "\n",
              "   acc_now_delinq  tot_coll_amt  tot_cur_bal  open_acc_6m  open_act_il  \\\n",
              "0             0.0           0.0      16901.0          2.0          2.0   \n",
              "1             0.0        1208.0     321915.0          4.0          4.0   \n",
              "\n",
              "   open_il_12m  open_il_24m  mths_since_rcnt_il  total_bal_il  il_util  \\\n",
              "0          1.0          2.0                 2.0       12560.0     69.0   \n",
              "1          2.0          3.0                 3.0       87153.0     88.0   \n",
              "\n",
              "   open_rv_12m  open_rv_24m  max_bal_bc  all_util  total_rev_hi_lim  inq_fi  \\\n",
              "0          2.0          7.0      2137.0      28.0           42000.0     1.0   \n",
              "1          4.0          5.0       998.0      57.0           50800.0     2.0   \n",
              "\n",
              "   total_cu_tl  inq_last_12m  acc_open_past_24mths  avg_cur_bal  \\\n",
              "0         11.0           2.0                   9.0       1878.0   \n",
              "1         15.0           2.0                  10.0      24763.0   \n",
              "\n",
              "   bc_open_to_buy  bc_util  chargeoff_within_12_mths  delinq_amnt  \\\n",
              "0         34360.0      5.9                       0.0          0.0   \n",
              "1         13761.0      8.3                       0.0          0.0   \n",
              "\n",
              "   mo_sin_old_il_acct  mo_sin_old_rev_tl_op  mo_sin_rcnt_rev_tl_op  \\\n",
              "0               140.0                 212.0                    1.0   \n",
              "1               163.0                 378.0                    4.0   \n",
              "\n",
              "   mo_sin_rcnt_tl  mort_acc  mths_since_recent_bc  mths_since_recent_bc_dlq  \\\n",
              "0             1.0       0.0                   1.0                       NaN   \n",
              "1             3.0       3.0                   4.0                       NaN   \n",
              "\n",
              "   mths_since_recent_inq  mths_since_recent_revol_delinq  \\\n",
              "0                    2.0                             NaN   \n",
              "1                    4.0                             NaN   \n",
              "\n",
              "   num_accts_ever_120_pd  num_actv_bc_tl  num_actv_rev_tl  num_bc_sats  \\\n",
              "0                    0.0             2.0              5.0          3.0   \n",
              "1                    0.0             2.0              4.0          4.0   \n",
              "\n",
              "   num_bc_tl  num_il_tl  num_op_rev_tl  num_rev_accts  num_rev_tl_bal_gt_0  \\\n",
              "0        3.0       16.0            7.0           18.0                  5.0   \n",
              "1        9.0       27.0            8.0           14.0                  4.0   \n",
              "\n",
              "   num_sats  num_tl_120dpd_2m  num_tl_30dpd  num_tl_90g_dpd_24m  \\\n",
              "0       9.0               0.0           0.0                 0.0   \n",
              "1      13.0               0.0           0.0                 0.0   \n",
              "\n",
              "   num_tl_op_past_12m  pct_tl_nvr_dlq  percent_bc_gt_75  pub_rec_bankruptcies  \\\n",
              "0                 3.0           100.0               0.0                   1.0   \n",
              "1                 6.0            95.0               0.0                   1.0   \n",
              "\n",
              "   tax_liens  tot_hi_cred_lim  total_bal_ex_mort  total_bc_limit  \\\n",
              "0        0.0          60124.0            16901.0         36500.0   \n",
              "1        0.0         372872.0            99468.0         15000.0   \n",
              "\n",
              "   total_il_high_credit_limit  revol_bal_joint sec_app_earliest_cr_line  \\\n",
              "0                     18124.0              NaN                      NaN   \n",
              "1                     94072.0              NaN                      NaN   \n",
              "\n",
              "   sec_app_inq_last_6mths  sec_app_mort_acc  sec_app_open_acc  \\\n",
              "0                     NaN               NaN               NaN   \n",
              "1                     NaN               NaN               NaN   \n",
              "\n",
              "   sec_app_revol_util  sec_app_open_act_il  sec_app_num_rev_accts  \\\n",
              "0                 NaN                  NaN                    NaN   \n",
              "1                 NaN                  NaN                    NaN   \n",
              "\n",
              "   sec_app_chargeoff_within_12_mths  sec_app_collections_12_mths_ex_med  \\\n",
              "0                               NaN                                 NaN   \n",
              "1                               NaN                                 NaN   \n",
              "\n",
              "   sec_app_mths_since_last_major_derog hardship_flag hardship_type  \\\n",
              "0                                  NaN             N           NaN   \n",
              "1                                  NaN             N           NaN   \n",
              "\n",
              "  hardship_reason hardship_status  deferral_term  hardship_amount  \\\n",
              "0             NaN             NaN            NaN              NaN   \n",
              "1             NaN             NaN            NaN              NaN   \n",
              "\n",
              "  hardship_start_date hardship_end_date payment_plan_start_date  \\\n",
              "0                 NaN               NaN                     NaN   \n",
              "1                 NaN               NaN                     NaN   \n",
              "\n",
              "   hardship_length  hardship_dpd hardship_loan_status  \\\n",
              "0              NaN           NaN                  NaN   \n",
              "1              NaN           NaN                  NaN   \n",
              "\n",
              "   orig_projected_additional_accrued_interest  hardship_payoff_balance_amount  \\\n",
              "0                                         NaN                             NaN   \n",
              "1                                         NaN                             NaN   \n",
              "\n",
              "   hardship_last_payment_amount disbursement_method debt_settlement_flag  \\\n",
              "0                           NaN                Cash                    N   \n",
              "1                           NaN                Cash                    N   \n",
              "\n",
              "  debt_settlement_flag_date settlement_status settlement_date  \\\n",
              "0                       NaN               NaN             NaN   \n",
              "1                       NaN               NaN             NaN   \n",
              "\n",
              "   settlement_amount  settlement_percentage  settlement_term  \n",
              "0                NaN                    NaN              NaN  \n",
              "1                NaN                    NaN              NaN  "
            ]
          },
          "metadata": {
            "tags": []
          },
          "execution_count": 20
        }
      ]
    },
    {
      "cell_type": "code",
      "metadata": {
        "id": "svD5ILkbtQnn",
        "colab_type": "code",
        "outputId": "1f13faac-ec54-4d22-9f3d-6d250e38728a",
        "colab": {
          "base_uri": "https://localhost:8080/",
          "height": 320
        }
      },
      "source": [
        "data.describe()"
      ],
      "execution_count": 0,
      "outputs": [
        {
          "output_type": "execute_result",
          "data": {
            "text/html": [
              "<div>\n",
              "<style scoped>\n",
              "    .dataframe tbody tr th:only-of-type {\n",
              "        vertical-align: middle;\n",
              "    }\n",
              "\n",
              "    .dataframe tbody tr th {\n",
              "        vertical-align: top;\n",
              "    }\n",
              "\n",
              "    .dataframe thead th {\n",
              "        text-align: right;\n",
              "    }\n",
              "</style>\n",
              "<table border=\"1\" class=\"dataframe\">\n",
              "  <thead>\n",
              "    <tr style=\"text-align: right;\">\n",
              "      <th></th>\n",
              "      <th>annual_inc</th>\n",
              "      <th>total_rec_int</th>\n",
              "      <th>installment</th>\n",
              "      <th>revol_bal</th>\n",
              "      <th>total_pymnt</th>\n",
              "      <th>total_acc</th>\n",
              "      <th>int_rate</th>\n",
              "      <th>tot_cur_bal</th>\n",
              "      <th>tot_coll_amt</th>\n",
              "      <th>loan_amnt</th>\n",
              "      <th>pub_rec</th>\n",
              "      <th>total_rec_late_fee</th>\n",
              "      <th>settlement_amount</th>\n",
              "      <th>total_rec_prncp</th>\n",
              "      <th>dti</th>\n",
              "      <th>out_prncp</th>\n",
              "      <th>open_acc</th>\n",
              "      <th>revol_util</th>\n",
              "      <th>last_pymnt_amnt</th>\n",
              "      <th>collection_recovery_fee</th>\n",
              "    </tr>\n",
              "  </thead>\n",
              "  <tbody>\n",
              "    <tr>\n",
              "      <th>count</th>\n",
              "      <td>2.260664e+06</td>\n",
              "      <td>2.260668e+06</td>\n",
              "      <td>2.260668e+06</td>\n",
              "      <td>2.260668e+06</td>\n",
              "      <td>2.260668e+06</td>\n",
              "      <td>2.260639e+06</td>\n",
              "      <td>2.260668e+06</td>\n",
              "      <td>2.190392e+06</td>\n",
              "      <td>2.190392e+06</td>\n",
              "      <td>2.260668e+06</td>\n",
              "      <td>2.260639e+06</td>\n",
              "      <td>2.260668e+06</td>\n",
              "      <td>33056.000000</td>\n",
              "      <td>2.260668e+06</td>\n",
              "      <td>2.258957e+06</td>\n",
              "      <td>2.260668e+06</td>\n",
              "      <td>2.260639e+06</td>\n",
              "      <td>2.258866e+06</td>\n",
              "      <td>2.260668e+06</td>\n",
              "      <td>2.260668e+06</td>\n",
              "    </tr>\n",
              "    <tr>\n",
              "      <th>mean</th>\n",
              "      <td>7.799243e+04</td>\n",
              "      <td>2.386352e+03</td>\n",
              "      <td>4.458076e+02</td>\n",
              "      <td>1.665846e+04</td>\n",
              "      <td>1.182403e+04</td>\n",
              "      <td>2.416255e+01</td>\n",
              "      <td>1.309291e+01</td>\n",
              "      <td>1.424922e+05</td>\n",
              "      <td>2.327317e+02</td>\n",
              "      <td>1.504693e+04</td>\n",
              "      <td>1.975278e-01</td>\n",
              "      <td>1.462469e+00</td>\n",
              "      <td>5030.606922</td>\n",
              "      <td>9.300142e+03</td>\n",
              "      <td>1.882420e+01</td>\n",
              "      <td>4.446293e+03</td>\n",
              "      <td>1.161240e+01</td>\n",
              "      <td>5.033770e+01</td>\n",
              "      <td>3.364015e+03</td>\n",
              "      <td>2.259328e+01</td>\n",
              "    </tr>\n",
              "    <tr>\n",
              "      <th>std</th>\n",
              "      <td>1.126962e+05</td>\n",
              "      <td>2.663086e+03</td>\n",
              "      <td>2.671737e+02</td>\n",
              "      <td>2.294831e+04</td>\n",
              "      <td>9.889599e+03</td>\n",
              "      <td>1.198753e+01</td>\n",
              "      <td>4.832114e+00</td>\n",
              "      <td>1.606926e+05</td>\n",
              "      <td>8.518462e+03</td>\n",
              "      <td>9.190245e+03</td>\n",
              "      <td>5.705150e-01</td>\n",
              "      <td>1.150210e+01</td>\n",
              "      <td>3692.027842</td>\n",
              "      <td>8.304886e+03</td>\n",
              "      <td>1.418333e+01</td>\n",
              "      <td>7.547612e+03</td>\n",
              "      <td>5.640861e+00</td>\n",
              "      <td>2.471307e+01</td>\n",
              "      <td>5.971757e+03</td>\n",
              "      <td>1.271114e+02</td>\n",
              "    </tr>\n",
              "    <tr>\n",
              "      <th>min</th>\n",
              "      <td>0.000000e+00</td>\n",
              "      <td>0.000000e+00</td>\n",
              "      <td>4.930000e+00</td>\n",
              "      <td>0.000000e+00</td>\n",
              "      <td>0.000000e+00</td>\n",
              "      <td>1.000000e+00</td>\n",
              "      <td>5.310000e+00</td>\n",
              "      <td>0.000000e+00</td>\n",
              "      <td>0.000000e+00</td>\n",
              "      <td>5.000000e+02</td>\n",
              "      <td>0.000000e+00</td>\n",
              "      <td>-9.500000e-09</td>\n",
              "      <td>44.210000</td>\n",
              "      <td>0.000000e+00</td>\n",
              "      <td>-1.000000e+00</td>\n",
              "      <td>0.000000e+00</td>\n",
              "      <td>0.000000e+00</td>\n",
              "      <td>0.000000e+00</td>\n",
              "      <td>0.000000e+00</td>\n",
              "      <td>0.000000e+00</td>\n",
              "    </tr>\n",
              "    <tr>\n",
              "      <th>25%</th>\n",
              "      <td>4.600000e+04</td>\n",
              "      <td>6.936100e+02</td>\n",
              "      <td>2.516500e+02</td>\n",
              "      <td>5.950000e+03</td>\n",
              "      <td>4.272580e+03</td>\n",
              "      <td>1.500000e+01</td>\n",
              "      <td>9.490000e+00</td>\n",
              "      <td>2.909200e+04</td>\n",
              "      <td>0.000000e+00</td>\n",
              "      <td>8.000000e+03</td>\n",
              "      <td>0.000000e+00</td>\n",
              "      <td>0.000000e+00</td>\n",
              "      <td>2227.000000</td>\n",
              "      <td>2.846180e+03</td>\n",
              "      <td>1.189000e+01</td>\n",
              "      <td>0.000000e+00</td>\n",
              "      <td>8.000000e+00</td>\n",
              "      <td>3.150000e+01</td>\n",
              "      <td>3.086400e+02</td>\n",
              "      <td>0.000000e+00</td>\n",
              "    </tr>\n",
              "    <tr>\n",
              "      <th>50%</th>\n",
              "      <td>6.500000e+04</td>\n",
              "      <td>1.485280e+03</td>\n",
              "      <td>3.779900e+02</td>\n",
              "      <td>1.132400e+04</td>\n",
              "      <td>9.060870e+03</td>\n",
              "      <td>2.200000e+01</td>\n",
              "      <td>1.262000e+01</td>\n",
              "      <td>7.924000e+04</td>\n",
              "      <td>0.000000e+00</td>\n",
              "      <td>1.290000e+04</td>\n",
              "      <td>0.000000e+00</td>\n",
              "      <td>0.000000e+00</td>\n",
              "      <td>4172.855000</td>\n",
              "      <td>6.823385e+03</td>\n",
              "      <td>1.784000e+01</td>\n",
              "      <td>0.000000e+00</td>\n",
              "      <td>1.100000e+01</td>\n",
              "      <td>5.030000e+01</td>\n",
              "      <td>5.884700e+02</td>\n",
              "      <td>0.000000e+00</td>\n",
              "    </tr>\n",
              "    <tr>\n",
              "      <th>75%</th>\n",
              "      <td>9.300000e+04</td>\n",
              "      <td>3.052220e+03</td>\n",
              "      <td>5.933200e+02</td>\n",
              "      <td>2.024600e+04</td>\n",
              "      <td>1.670797e+04</td>\n",
              "      <td>3.100000e+01</td>\n",
              "      <td>1.599000e+01</td>\n",
              "      <td>2.132040e+05</td>\n",
              "      <td>0.000000e+00</td>\n",
              "      <td>2.000000e+04</td>\n",
              "      <td>0.000000e+00</td>\n",
              "      <td>0.000000e+00</td>\n",
              "      <td>6870.782500</td>\n",
              "      <td>1.339750e+04</td>\n",
              "      <td>2.449000e+01</td>\n",
              "      <td>6.712632e+03</td>\n",
              "      <td>1.400000e+01</td>\n",
              "      <td>6.940000e+01</td>\n",
              "      <td>3.534965e+03</td>\n",
              "      <td>0.000000e+00</td>\n",
              "    </tr>\n",
              "    <tr>\n",
              "      <th>max</th>\n",
              "      <td>1.100000e+08</td>\n",
              "      <td>2.819250e+04</td>\n",
              "      <td>1.719830e+03</td>\n",
              "      <td>2.904836e+06</td>\n",
              "      <td>6.329688e+04</td>\n",
              "      <td>1.760000e+02</td>\n",
              "      <td>3.099000e+01</td>\n",
              "      <td>9.971659e+06</td>\n",
              "      <td>9.152545e+06</td>\n",
              "      <td>4.000000e+04</td>\n",
              "      <td>8.600000e+01</td>\n",
              "      <td>1.427250e+03</td>\n",
              "      <td>33601.000000</td>\n",
              "      <td>4.000000e+04</td>\n",
              "      <td>9.990000e+02</td>\n",
              "      <td>4.000000e+04</td>\n",
              "      <td>1.010000e+02</td>\n",
              "      <td>8.923000e+02</td>\n",
              "      <td>4.219205e+04</td>\n",
              "      <td>7.174719e+03</td>\n",
              "    </tr>\n",
              "  </tbody>\n",
              "</table>\n",
              "</div>"
            ],
            "text/plain": [
              "         annual_inc  total_rec_int   installment     revol_bal   total_pymnt  \\\n",
              "count  2.260664e+06   2.260668e+06  2.260668e+06  2.260668e+06  2.260668e+06   \n",
              "mean   7.799243e+04   2.386352e+03  4.458076e+02  1.665846e+04  1.182403e+04   \n",
              "std    1.126962e+05   2.663086e+03  2.671737e+02  2.294831e+04  9.889599e+03   \n",
              "min    0.000000e+00   0.000000e+00  4.930000e+00  0.000000e+00  0.000000e+00   \n",
              "25%    4.600000e+04   6.936100e+02  2.516500e+02  5.950000e+03  4.272580e+03   \n",
              "50%    6.500000e+04   1.485280e+03  3.779900e+02  1.132400e+04  9.060870e+03   \n",
              "75%    9.300000e+04   3.052220e+03  5.933200e+02  2.024600e+04  1.670797e+04   \n",
              "max    1.100000e+08   2.819250e+04  1.719830e+03  2.904836e+06  6.329688e+04   \n",
              "\n",
              "          total_acc      int_rate   tot_cur_bal  tot_coll_amt     loan_amnt  \\\n",
              "count  2.260639e+06  2.260668e+06  2.190392e+06  2.190392e+06  2.260668e+06   \n",
              "mean   2.416255e+01  1.309291e+01  1.424922e+05  2.327317e+02  1.504693e+04   \n",
              "std    1.198753e+01  4.832114e+00  1.606926e+05  8.518462e+03  9.190245e+03   \n",
              "min    1.000000e+00  5.310000e+00  0.000000e+00  0.000000e+00  5.000000e+02   \n",
              "25%    1.500000e+01  9.490000e+00  2.909200e+04  0.000000e+00  8.000000e+03   \n",
              "50%    2.200000e+01  1.262000e+01  7.924000e+04  0.000000e+00  1.290000e+04   \n",
              "75%    3.100000e+01  1.599000e+01  2.132040e+05  0.000000e+00  2.000000e+04   \n",
              "max    1.760000e+02  3.099000e+01  9.971659e+06  9.152545e+06  4.000000e+04   \n",
              "\n",
              "            pub_rec  total_rec_late_fee  settlement_amount  total_rec_prncp  \\\n",
              "count  2.260639e+06        2.260668e+06       33056.000000     2.260668e+06   \n",
              "mean   1.975278e-01        1.462469e+00        5030.606922     9.300142e+03   \n",
              "std    5.705150e-01        1.150210e+01        3692.027842     8.304886e+03   \n",
              "min    0.000000e+00       -9.500000e-09          44.210000     0.000000e+00   \n",
              "25%    0.000000e+00        0.000000e+00        2227.000000     2.846180e+03   \n",
              "50%    0.000000e+00        0.000000e+00        4172.855000     6.823385e+03   \n",
              "75%    0.000000e+00        0.000000e+00        6870.782500     1.339750e+04   \n",
              "max    8.600000e+01        1.427250e+03       33601.000000     4.000000e+04   \n",
              "\n",
              "                dti     out_prncp      open_acc    revol_util  \\\n",
              "count  2.258957e+06  2.260668e+06  2.260639e+06  2.258866e+06   \n",
              "mean   1.882420e+01  4.446293e+03  1.161240e+01  5.033770e+01   \n",
              "std    1.418333e+01  7.547612e+03  5.640861e+00  2.471307e+01   \n",
              "min   -1.000000e+00  0.000000e+00  0.000000e+00  0.000000e+00   \n",
              "25%    1.189000e+01  0.000000e+00  8.000000e+00  3.150000e+01   \n",
              "50%    1.784000e+01  0.000000e+00  1.100000e+01  5.030000e+01   \n",
              "75%    2.449000e+01  6.712632e+03  1.400000e+01  6.940000e+01   \n",
              "max    9.990000e+02  4.000000e+04  1.010000e+02  8.923000e+02   \n",
              "\n",
              "       last_pymnt_amnt  collection_recovery_fee  \n",
              "count     2.260668e+06             2.260668e+06  \n",
              "mean      3.364015e+03             2.259328e+01  \n",
              "std       5.971757e+03             1.271114e+02  \n",
              "min       0.000000e+00             0.000000e+00  \n",
              "25%       3.086400e+02             0.000000e+00  \n",
              "50%       5.884700e+02             0.000000e+00  \n",
              "75%       3.534965e+03             0.000000e+00  \n",
              "max       4.219205e+04             7.174719e+03  "
            ]
          },
          "metadata": {
            "tags": []
          },
          "execution_count": 22
        }
      ]
    },
    {
      "cell_type": "code",
      "metadata": {
        "id": "S47_BlbVqYh0",
        "colab_type": "code",
        "outputId": "2b7d07d7-18e9-4c40-86aa-77385b7f2995",
        "colab": {
          "base_uri": "https://localhost:8080/",
          "height": 424
        }
      },
      "source": [
        "data[['loan_amnt_group','loan_amnt']]"
      ],
      "execution_count": 0,
      "outputs": [
        {
          "output_type": "execute_result",
          "data": {
            "text/html": [
              "<div>\n",
              "<style scoped>\n",
              "    .dataframe tbody tr th:only-of-type {\n",
              "        vertical-align: middle;\n",
              "    }\n",
              "\n",
              "    .dataframe tbody tr th {\n",
              "        vertical-align: top;\n",
              "    }\n",
              "\n",
              "    .dataframe thead th {\n",
              "        text-align: right;\n",
              "    }\n",
              "</style>\n",
              "<table border=\"1\" class=\"dataframe\">\n",
              "  <thead>\n",
              "    <tr style=\"text-align: right;\">\n",
              "      <th></th>\n",
              "      <th>loan_amnt_group</th>\n",
              "      <th>loan_amnt</th>\n",
              "    </tr>\n",
              "  </thead>\n",
              "  <tbody>\n",
              "    <tr>\n",
              "      <th>0</th>\n",
              "      <td>below 5000</td>\n",
              "      <td>2500</td>\n",
              "    </tr>\n",
              "    <tr>\n",
              "      <th>1</th>\n",
              "      <td>25001to30000</td>\n",
              "      <td>30000</td>\n",
              "    </tr>\n",
              "    <tr>\n",
              "      <th>2</th>\n",
              "      <td>below 5000</td>\n",
              "      <td>5000</td>\n",
              "    </tr>\n",
              "    <tr>\n",
              "      <th>3</th>\n",
              "      <td>below 5000</td>\n",
              "      <td>4000</td>\n",
              "    </tr>\n",
              "    <tr>\n",
              "      <th>4</th>\n",
              "      <td>25001to30000</td>\n",
              "      <td>30000</td>\n",
              "    </tr>\n",
              "    <tr>\n",
              "      <th>...</th>\n",
              "      <td>...</td>\n",
              "      <td>...</td>\n",
              "    </tr>\n",
              "    <tr>\n",
              "      <th>2260663</th>\n",
              "      <td>10001to15000</td>\n",
              "      <td>12000</td>\n",
              "    </tr>\n",
              "    <tr>\n",
              "      <th>2260664</th>\n",
              "      <td>10001to15000</td>\n",
              "      <td>12000</td>\n",
              "    </tr>\n",
              "    <tr>\n",
              "      <th>2260665</th>\n",
              "      <td>5001to10000</td>\n",
              "      <td>10000</td>\n",
              "    </tr>\n",
              "    <tr>\n",
              "      <th>2260666</th>\n",
              "      <td>10001to15000</td>\n",
              "      <td>12000</td>\n",
              "    </tr>\n",
              "    <tr>\n",
              "      <th>2260667</th>\n",
              "      <td>15001to20000</td>\n",
              "      <td>16550</td>\n",
              "    </tr>\n",
              "  </tbody>\n",
              "</table>\n",
              "<p>2260668 rows × 2 columns</p>\n",
              "</div>"
            ],
            "text/plain": [
              "        loan_amnt_group  loan_amnt\n",
              "0            below 5000       2500\n",
              "1          25001to30000      30000\n",
              "2            below 5000       5000\n",
              "3            below 5000       4000\n",
              "4          25001to30000      30000\n",
              "...                 ...        ...\n",
              "2260663    10001to15000      12000\n",
              "2260664    10001to15000      12000\n",
              "2260665     5001to10000      10000\n",
              "2260666    10001to15000      12000\n",
              "2260667    15001to20000      16550\n",
              "\n",
              "[2260668 rows x 2 columns]"
            ]
          },
          "metadata": {
            "tags": []
          },
          "execution_count": 23
        }
      ]
    },
    {
      "cell_type": "code",
      "metadata": {
        "id": "YV7c3Lmwqgi5",
        "colab_type": "code",
        "outputId": "a89419a2-82fc-4cd4-b593-363e433e1263",
        "colab": {
          "base_uri": "https://localhost:8080/",
          "height": 36
        }
      },
      "source": [
        "type(data['loan_amnt_group'][1])"
      ],
      "execution_count": 0,
      "outputs": [
        {
          "output_type": "execute_result",
          "data": {
            "text/plain": [
              "str"
            ]
          },
          "metadata": {
            "tags": []
          },
          "execution_count": 24
        }
      ]
    },
    {
      "cell_type": "markdown",
      "metadata": {
        "id": "88itD3Sy7ZYs",
        "colab_type": "text"
      },
      "source": [
        "counter plot with loan status"
      ]
    },
    {
      "cell_type": "code",
      "metadata": {
        "id": "CbRCjPJDsP0z",
        "colab_type": "code",
        "outputId": "e20e9cc5-9bff-41f7-d833-6b9fe6070365",
        "colab": {
          "base_uri": "https://localhost:8080/",
          "height": 517
        }
      },
      "source": [
        "plt.figure(figsize=(12,8))\n",
        "sns.countplot(data['loan_amnt_group'],order=data['loan_amnt_group'].value_counts().index,hue=data['loan_status'])"
      ],
      "execution_count": 0,
      "outputs": [
        {
          "output_type": "execute_result",
          "data": {
            "text/plain": [
              "<matplotlib.axes._subplots.AxesSubplot at 0x7f95ebfdce80>"
            ]
          },
          "metadata": {
            "tags": []
          },
          "execution_count": 26
        },
        {
          "output_type": "display_data",
          "data": {
            "image/png": "[encoded data removed]",
            "text/plain": [
              "<Figure size 864x576 with 1 Axes>"
            ]
          },
          "metadata": {
            "tags": [],
            "needs_background": "light"
          }
        }
      ]
    },
    {
      "cell_type": "code",
      "metadata": {
        "id": "d226suoT8DTb",
        "colab_type": "code",
        "outputId": "91ed0cee-961d-4388-80b4-1bb46c720ff2",
        "colab": {
          "base_uri": "https://localhost:8080/",
          "height": 528
        }
      },
      "source": [
        "plt.figure(figsize=(12,8))\n",
        "sns.countplot(data['loan_status'],order=data['loan_status'].value_counts().index,palette='cool_r')"
      ],
      "execution_count": 0,
      "outputs": [
        {
          "output_type": "execute_result",
          "data": {
            "text/plain": [
              "<matplotlib.axes._subplots.AxesSubplot at 0x7f95df7f5320>"
            ]
          },
          "metadata": {
            "tags": []
          },
          "execution_count": 27
        },
        {
          "output_type": "display_data",
          "data": {
            "image/png": "[encoded data removed]",
            "text/plain": [
              "<Figure size 864x576 with 1 Axes>"
            ]
          },
          "metadata": {
            "tags": [],
            "needs_background": "light"
          }
        }
      ]
    },
    {
      "cell_type": "code",
      "metadata": {
        "id": "z_YsmxCPEhDf",
        "colab_type": "code",
        "outputId": "4d5afa84-dd06-4bca-d5f6-244c4925406d",
        "colab": {
          "base_uri": "https://localhost:8080/",
          "height": 175
        }
      },
      "source": [
        "data=data[data['loan_status'].apply(lambda x: True if x in ['Fully Paid','Current','Charged Off'] else False)]"
      ],
      "execution_count": 0,
      "outputs": [
        {
          "output_type": "error",
          "ename": "NameError",
          "evalue": "ignored",
          "traceback": [
            "\u001b[0;31m---------------------------------------------------------------------------\u001b[0m",
            "\u001b[0;31mNameError\u001b[0m                                 Traceback (most recent call last)",
            "\u001b[0;32m<ipython-input-9-fe295cb2d6ca>\u001b[0m in \u001b[0;36m<module>\u001b[0;34m()\u001b[0m\n\u001b[0;32m----> 1\u001b[0;31m \u001b[0mdata\u001b[0m\u001b[0;34m=\u001b[0m\u001b[0mdata\u001b[0m\u001b[0;34m[\u001b[0m\u001b[0mdata\u001b[0m\u001b[0;34m[\u001b[0m\u001b[0;34m'loan_status'\u001b[0m\u001b[0;34m]\u001b[0m\u001b[0;34m.\u001b[0m\u001b[0mapply\u001b[0m\u001b[0;34m(\u001b[0m\u001b[0;32mlambda\u001b[0m \u001b[0mx\u001b[0m\u001b[0;34m:\u001b[0m \u001b[0;32mTrue\u001b[0m \u001b[0;32mif\u001b[0m \u001b[0mx\u001b[0m \u001b[0;32min\u001b[0m \u001b[0;34m[\u001b[0m\u001b[0;34m'Fully Paid'\u001b[0m\u001b[0;34m,\u001b[0m\u001b[0;34m'Current'\u001b[0m\u001b[0;34m,\u001b[0m\u001b[0;34m'Charged Off'\u001b[0m\u001b[0;34m]\u001b[0m \u001b[0;32melse\u001b[0m \u001b[0;32mFalse\u001b[0m\u001b[0;34m)\u001b[0m\u001b[0;34m]\u001b[0m\u001b[0;34m\u001b[0m\u001b[0;34m\u001b[0m\u001b[0m\n\u001b[0m",
            "\u001b[0;31mNameError\u001b[0m: name 'data' is not defined"
          ]
        }
      ]
    },
    {
      "cell_type": "code",
      "metadata": {
        "id": "rNIMyHo4oGw7",
        "colab_type": "code",
        "outputId": "5b832fd6-abec-433c-e6e0-fea3ce45544e",
        "colab": {
          "base_uri": "https://localhost:8080/",
          "height": 310
        }
      },
      "source": [
        "\n",
        "sns.countplot(data['loan_status'],order=data['loan_status'].value_counts().index,palette='cool_r')"
      ],
      "execution_count": 0,
      "outputs": [
        {
          "output_type": "execute_result",
          "data": {
            "text/plain": [
              "<matplotlib.axes._subplots.AxesSubplot at 0x7f95df76e198>"
            ]
          },
          "metadata": {
            "tags": []
          },
          "execution_count": 29
        },
        {
          "output_type": "display_data",
          "data": {
            "image/png": "[encoded data removed]",
            "text/plain": [
              "<Figure size 432x288 with 1 Axes>"
            ]
          },
          "metadata": {
            "tags": [],
            "needs_background": "light"
          }
        }
      ]
    },
    {
      "cell_type": "code",
      "metadata": {
        "id": "dA6-b6Pcqgyv",
        "colab_type": "code",
        "outputId": "3409e455-b101-4e5a-9c52-e23d0c996dc5",
        "colab": {
          "base_uri": "https://localhost:8080/",
          "height": 517
        }
      },
      "source": [
        "plt.figure(figsize=(12,8))\n",
        "sns.countplot(data['loan_amnt_group'],order=data['loan_amnt_group'].value_counts().index,hue=data['loan_status'],palette='coolwarm_r')"
      ],
      "execution_count": 0,
      "outputs": [
        {
          "output_type": "execute_result",
          "data": {
            "text/plain": [
              "<matplotlib.axes._subplots.AxesSubplot at 0x7f95eb654ef0>"
            ]
          },
          "metadata": {
            "tags": []
          },
          "execution_count": 30
        },
        {
          "output_type": "display_data",
          "data": {
            "image/png": "[encoded data removed]",
            "text/plain": [
              "<Figure size 864x576 with 1 Axes>"
            ]
          },
          "metadata": {
            "tags": [],
            "needs_background": "light"
          }
        }
      ]
    },
    {
      "cell_type": "markdown",
      "metadata": {
        "id": "p35M2h-5r3ml",
        "colab_type": "text"
      },
      "source": [
        "Find out the total payment receipt for each loan groups"
      ]
    },
    {
      "cell_type": "code",
      "metadata": {
        "id": "z5ghi8MrqvPg",
        "colab_type": "code",
        "outputId": "fcc2f2e6-5ea9-4f65-e438-6ab2294b2b52",
        "colab": {
          "base_uri": "https://localhost:8080/",
          "height": 841
        }
      },
      "source": [
        "data.info()"
      ],
      "execution_count": 0,
      "outputs": [
        {
          "output_type": "stream",
          "text": [
            "<class 'pandas.core.frame.DataFrame'>\n",
            "Int64Index: 2223302 entries, 0 to 2260667\n",
            "Data columns (total 37 columns):\n",
            " #   Column                   Dtype   \n",
            "---  ------                   -----   \n",
            " 0   annual_inc               float64 \n",
            " 1   emp_length               object  \n",
            " 2   zip_code                 object  \n",
            " 3   addr_state               object  \n",
            " 4   total_rec_int            float64 \n",
            " 5   issue_d                  object  \n",
            " 6   last_pymnt_d             object  \n",
            " 7   installment              float64 \n",
            " 8   home_ownership           object  \n",
            " 9   title                    object  \n",
            " 10  revol_bal                int64   \n",
            " 11  loan_status              object  \n",
            " 12  total_pymnt              float64 \n",
            " 13  total_acc                float64 \n",
            " 14  int_rate                 float64 \n",
            " 15  tot_cur_bal              float64 \n",
            " 16  tot_coll_amt             float64 \n",
            " 17  emp_title                object  \n",
            " 18  loan_amnt                int64   \n",
            " 19  pub_rec                  float64 \n",
            " 20  total_rec_late_fee       float64 \n",
            " 21  grade                    object  \n",
            " 22  settlement_amount        float64 \n",
            " 23  settlement_date          object  \n",
            " 24  total_rec_prncp          float64 \n",
            " 25  sub_grade                object  \n",
            " 26  dti                      float64 \n",
            " 27  verification_status      object  \n",
            " 28  out_prncp                float64 \n",
            " 29  open_acc                 float64 \n",
            " 30  revol_util               float64 \n",
            " 31  purpose                  object  \n",
            " 32  initial_list_status      object  \n",
            " 33  last_pymnt_amnt          float64 \n",
            " 34  collection_recovery_fee  float64 \n",
            " 35  term                     object  \n",
            " 36  loan_amnt_group          category\n",
            "dtypes: category(1), float64(18), int64(2), object(16)\n",
            "memory usage: 629.7+ MB\n"
          ],
          "name": "stdout"
        }
      ]
    },
    {
      "cell_type": "code",
      "metadata": {
        "colab_type": "code",
        "id": "-zB5zviCuYhQ",
        "colab": {}
      },
      "source": [
        "#import pdb\n",
        "def before2018(x):\n",
        " # pdb.set_trace()\n",
        "  if type(x)!=type('-'):\n",
        "    return False\n",
        "  if(int(x.split('-')[1])<2018):\n",
        "    return True\n",
        "\n",
        "  return False  \n"
      ],
      "execution_count": 0,
      "outputs": []
    },
    {
      "cell_type": "code",
      "metadata": {
        "id": "xtTnOHApw_RJ",
        "colab_type": "code",
        "colab": {}
      },
      "source": [
        "\n",
        "pd.set_option('display.max_rows', 500) #show more rows"
      ],
      "execution_count": 0,
      "outputs": []
    },
    {
      "cell_type": "markdown",
      "metadata": {
        "id": "YirsC-RHsn_R",
        "colab_type": "text"
      },
      "source": [
        ""
      ]
    },
    {
      "cell_type": "markdown",
      "metadata": {
        "id": "hdkIkYkX_cMv",
        "colab_type": "text"
      },
      "source": [
        "Compare profit and lose with loan groups"
      ]
    },
    {
      "cell_type": "code",
      "metadata": {
        "id": "PcyHX-codQOK",
        "colab_type": "code",
        "colab": {}
      },
      "source": [
        ""
      ],
      "execution_count": 0,
      "outputs": []
    },
    {
      "cell_type": "code",
      "metadata": {
        "id": "fT1Gz2Wv4PNN",
        "colab_type": "code",
        "colab": {}
      },
      "source": [
        "data= df[df['loan_status'].apply(lambda x:x=='Charged Off' or x=='Fully Paid')][['loan_status','loan_amnt','int_rate','total_pymnt','issue_d','last_pymnt_d',]]"
      ],
      "execution_count": 0,
      "outputs": []
    },
    {
      "cell_type": "code",
      "metadata": {
        "id": "MO9KpzrXnUvK",
        "colab_type": "code",
        "colab": {}
      },
      "source": [
        "data['loan_amnt_group'] = pd.cut(data['loan_amnt'],\n",
        "                                 [0,5000,10000,15000,20000,25000,30000,35000,40000],\n",
        "                                 labels=['below 5000','5001to10000','10001to15000','15001to20000','20001to25000',\n",
        "                                         '25001to30000','30001to35000','35001to40000']) #grouped as per the loan amount"
      ],
      "execution_count": 0,
      "outputs": []
    },
    {
      "cell_type": "code",
      "metadata": {
        "id": "oALxfCLw800T",
        "colab_type": "code",
        "outputId": "c1216cfb-22ed-4d41-8934-9b3f2a2c58da",
        "colab": {
          "base_uri": "https://localhost:8080/",
          "height": 424
        }
      },
      "source": [
        "data"
      ],
      "execution_count": 0,
      "outputs": [
        {
          "output_type": "execute_result",
          "data": {
            "text/html": [
              "<div>\n",
              "<style scoped>\n",
              "    .dataframe tbody tr th:only-of-type {\n",
              "        vertical-align: middle;\n",
              "    }\n",
              "\n",
              "    .dataframe tbody tr th {\n",
              "        vertical-align: top;\n",
              "    }\n",
              "\n",
              "    .dataframe thead th {\n",
              "        text-align: right;\n",
              "    }\n",
              "</style>\n",
              "<table border=\"1\" class=\"dataframe\">\n",
              "  <thead>\n",
              "    <tr style=\"text-align: right;\">\n",
              "      <th></th>\n",
              "      <th>loan_status</th>\n",
              "      <th>loan_amnt</th>\n",
              "      <th>int_rate</th>\n",
              "      <th>total_pymnt</th>\n",
              "      <th>issue_d</th>\n",
              "      <th>last_pymnt_d</th>\n",
              "      <th>loan_amnt_group</th>\n",
              "    </tr>\n",
              "  </thead>\n",
              "  <tbody>\n",
              "    <tr>\n",
              "      <th>100</th>\n",
              "      <td>Fully Paid</td>\n",
              "      <td>30000</td>\n",
              "      <td>22.35</td>\n",
              "      <td>30026.442500</td>\n",
              "      <td>Dec-2018</td>\n",
              "      <td>Jan-2019</td>\n",
              "      <td>25001to30000</td>\n",
              "    </tr>\n",
              "    <tr>\n",
              "      <th>152</th>\n",
              "      <td>Fully Paid</td>\n",
              "      <td>40000</td>\n",
              "      <td>16.14</td>\n",
              "      <td>40856.678960</td>\n",
              "      <td>Dec-2018</td>\n",
              "      <td>Feb-2019</td>\n",
              "      <td>35001to40000</td>\n",
              "    </tr>\n",
              "    <tr>\n",
              "      <th>170</th>\n",
              "      <td>Fully Paid</td>\n",
              "      <td>20000</td>\n",
              "      <td>7.56</td>\n",
              "      <td>20215.792430</td>\n",
              "      <td>Dec-2018</td>\n",
              "      <td>Feb-2019</td>\n",
              "      <td>15001to20000</td>\n",
              "    </tr>\n",
              "    <tr>\n",
              "      <th>186</th>\n",
              "      <td>Fully Paid</td>\n",
              "      <td>4500</td>\n",
              "      <td>11.31</td>\n",
              "      <td>4549.217149</td>\n",
              "      <td>Dec-2018</td>\n",
              "      <td>Feb-2019</td>\n",
              "      <td>below 5000</td>\n",
              "    </tr>\n",
              "    <tr>\n",
              "      <th>215</th>\n",
              "      <td>Fully Paid</td>\n",
              "      <td>8425</td>\n",
              "      <td>27.27</td>\n",
              "      <td>8735.148975</td>\n",
              "      <td>Dec-2018</td>\n",
              "      <td>Feb-2019</td>\n",
              "      <td>5001to10000</td>\n",
              "    </tr>\n",
              "    <tr>\n",
              "      <th>...</th>\n",
              "      <td>...</td>\n",
              "      <td>...</td>\n",
              "      <td>...</td>\n",
              "      <td>...</td>\n",
              "      <td>...</td>\n",
              "      <td>...</td>\n",
              "      <td>...</td>\n",
              "    </tr>\n",
              "    <tr>\n",
              "      <th>2260654</th>\n",
              "      <td>Charged Off</td>\n",
              "      <td>30000</td>\n",
              "      <td>17.09</td>\n",
              "      <td>6047.460000</td>\n",
              "      <td>Oct-2017</td>\n",
              "      <td>Jun-2018</td>\n",
              "      <td>25001to30000</td>\n",
              "    </tr>\n",
              "    <tr>\n",
              "      <th>2260655</th>\n",
              "      <td>Charged Off</td>\n",
              "      <td>18000</td>\n",
              "      <td>30.65</td>\n",
              "      <td>5393.400000</td>\n",
              "      <td>Oct-2017</td>\n",
              "      <td>Aug-2018</td>\n",
              "      <td>15001to20000</td>\n",
              "    </tr>\n",
              "    <tr>\n",
              "      <th>2260656</th>\n",
              "      <td>Fully Paid</td>\n",
              "      <td>17950</td>\n",
              "      <td>30.17</td>\n",
              "      <td>20803.775467</td>\n",
              "      <td>Oct-2017</td>\n",
              "      <td>Apr-2018</td>\n",
              "      <td>15001to20000</td>\n",
              "    </tr>\n",
              "    <tr>\n",
              "      <th>2260658</th>\n",
              "      <td>Fully Paid</td>\n",
              "      <td>15000</td>\n",
              "      <td>16.02</td>\n",
              "      <td>16112.317714</td>\n",
              "      <td>Oct-2017</td>\n",
              "      <td>Mar-2018</td>\n",
              "      <td>10001to15000</td>\n",
              "    </tr>\n",
              "    <tr>\n",
              "      <th>2260664</th>\n",
              "      <td>Fully Paid</td>\n",
              "      <td>12000</td>\n",
              "      <td>25.82</td>\n",
              "      <td>14499.802172</td>\n",
              "      <td>Oct-2017</td>\n",
              "      <td>Aug-2018</td>\n",
              "      <td>10001to15000</td>\n",
              "    </tr>\n",
              "  </tbody>\n",
              "</table>\n",
              "<p>1303607 rows × 7 columns</p>\n",
              "</div>"
            ],
            "text/plain": [
              "         loan_status  loan_amnt  ...  last_pymnt_d  loan_amnt_group\n",
              "100       Fully Paid      30000  ...      Jan-2019     25001to30000\n",
              "152       Fully Paid      40000  ...      Feb-2019     35001to40000\n",
              "170       Fully Paid      20000  ...      Feb-2019     15001to20000\n",
              "186       Fully Paid       4500  ...      Feb-2019       below 5000\n",
              "215       Fully Paid       8425  ...      Feb-2019      5001to10000\n",
              "...              ...        ...  ...           ...              ...\n",
              "2260654  Charged Off      30000  ...      Jun-2018     25001to30000\n",
              "2260655  Charged Off      18000  ...      Aug-2018     15001to20000\n",
              "2260656   Fully Paid      17950  ...      Apr-2018     15001to20000\n",
              "2260658   Fully Paid      15000  ...      Mar-2018     10001to15000\n",
              "2260664   Fully Paid      12000  ...      Aug-2018     10001to15000\n",
              "\n",
              "[1303607 rows x 7 columns]"
            ]
          },
          "metadata": {
            "tags": []
          },
          "execution_count": 14
        }
      ]
    },
    {
      "cell_type": "code",
      "metadata": {
        "id": "qhvdjRqQ87BW",
        "colab_type": "code",
        "outputId": "324fbef0-191d-43a0-b676-18907e9fbe03",
        "colab": {
          "base_uri": "https://localhost:8080/",
          "height": 625
        }
      },
      "source": [
        "plt.figure(figsize=(12,10))\n",
        "sns.boxplot(x='loan_amnt_group',y='int_rate',data=data)"
      ],
      "execution_count": 0,
      "outputs": [
        {
          "output_type": "execute_result",
          "data": {
            "text/plain": [
              "<matplotlib.axes._subplots.AxesSubplot at 0x7fd93e528128>"
            ]
          },
          "metadata": {
            "tags": []
          },
          "execution_count": 16
        },
        {
          "output_type": "display_data",
          "data": {
            "image/png": "[encoded data removed]",
            "text/plain": [
              "<Figure size 864x720 with 1 Axes>"
            ]
          },
          "metadata": {
            "tags": [],
            "needs_background": "light"
          }
        }
      ]
    },
    {
      "cell_type": "code",
      "metadata": {
        "id": "UI9jCtfsBomu",
        "colab_type": "code",
        "outputId": "359d3f10-a100-401b-8596-0beb9b34a982",
        "colab": {
          "base_uri": "https://localhost:8080/",
          "height": 625
        }
      },
      "source": [
        "plt.figure(figsize=(12,10))\n",
        "sns.violinplot(x='loan_amnt_group',y='int_rate',data=data)"
      ],
      "execution_count": 0,
      "outputs": [
        {
          "output_type": "execute_result",
          "data": {
            "text/plain": [
              "<matplotlib.axes._subplots.AxesSubplot at 0x7fd93e528588>"
            ]
          },
          "metadata": {
            "tags": []
          },
          "execution_count": 17
        },
        {
          "output_type": "display_data",
          "data": {
            "image/png": "[encoded data removed]",
            "text/plain": [
              "<Figure size 864x720 with 1 Axes>"
            ]
          },
          "metadata": {
            "tags": [],
            "needs_background": "light"
          }
        }
      ]
    },
    {
      "cell_type": "markdown",
      "metadata": {
        "id": "HSO7ajozYquF",
        "colab_type": "text"
      },
      "source": [
        "From this graphs we can see loan in between 30000, and 35000 gettin more interest and 35000 and 40000 ettin less interest"
      ]
    },
    {
      "cell_type": "code",
      "metadata": {
        "id": "NHSGt0bGbNLp",
        "colab_type": "code",
        "outputId": "57c747a8-fa17-4a10-f222-92b5ba7b066f",
        "colab": {
          "base_uri": "https://localhost:8080/",
          "height": 300
        }
      },
      "source": [
        "meanrp= data.groupby('loan_amnt_group').mean()\n"
      ],
      "execution_count": 0,
      "outputs": [
        {
          "output_type": "execute_result",
          "data": {
            "text/html": [
              "<div>\n",
              "<style scoped>\n",
              "    .dataframe tbody tr th:only-of-type {\n",
              "        vertical-align: middle;\n",
              "    }\n",
              "\n",
              "    .dataframe tbody tr th {\n",
              "        vertical-align: top;\n",
              "    }\n",
              "\n",
              "    .dataframe thead th {\n",
              "        text-align: right;\n",
              "    }\n",
              "</style>\n",
              "<table border=\"1\" class=\"dataframe\">\n",
              "  <thead>\n",
              "    <tr style=\"text-align: right;\">\n",
              "      <th></th>\n",
              "      <th>loan_amnt_group</th>\n",
              "      <th>loan_amnt</th>\n",
              "      <th>int_rate</th>\n",
              "      <th>total_pymnt</th>\n",
              "    </tr>\n",
              "  </thead>\n",
              "  <tbody>\n",
              "    <tr>\n",
              "      <th>0</th>\n",
              "      <td>below 5000</td>\n",
              "      <td>3658.255025</td>\n",
              "      <td>12.947209</td>\n",
              "      <td>3817.183510</td>\n",
              "    </tr>\n",
              "    <tr>\n",
              "      <th>1</th>\n",
              "      <td>5001to10000</td>\n",
              "      <td>8103.667982</td>\n",
              "      <td>12.325634</td>\n",
              "      <td>8411.594693</td>\n",
              "    </tr>\n",
              "    <tr>\n",
              "      <th>2</th>\n",
              "      <td>10001to15000</td>\n",
              "      <td>13007.722760</td>\n",
              "      <td>13.230596</td>\n",
              "      <td>13378.406182</td>\n",
              "    </tr>\n",
              "    <tr>\n",
              "      <th>3</th>\n",
              "      <td>15001to20000</td>\n",
              "      <td>18140.339849</td>\n",
              "      <td>13.556220</td>\n",
              "      <td>18533.711105</td>\n",
              "    </tr>\n",
              "    <tr>\n",
              "      <th>4</th>\n",
              "      <td>20001to25000</td>\n",
              "      <td>23251.906275</td>\n",
              "      <td>13.799484</td>\n",
              "      <td>23836.626420</td>\n",
              "    </tr>\n",
              "    <tr>\n",
              "      <th>5</th>\n",
              "      <td>25001to30000</td>\n",
              "      <td>28464.171380</td>\n",
              "      <td>14.577298</td>\n",
              "      <td>29171.516705</td>\n",
              "    </tr>\n",
              "    <tr>\n",
              "      <th>6</th>\n",
              "      <td>30001to35000</td>\n",
              "      <td>34228.413156</td>\n",
              "      <td>15.788253</td>\n",
              "      <td>35089.550444</td>\n",
              "    </tr>\n",
              "    <tr>\n",
              "      <th>7</th>\n",
              "      <td>35001to40000</td>\n",
              "      <td>39107.663910</td>\n",
              "      <td>12.176641</td>\n",
              "      <td>36298.848350</td>\n",
              "    </tr>\n",
              "  </tbody>\n",
              "</table>\n",
              "</div>"
            ],
            "text/plain": [
              "  loan_amnt_group     loan_amnt   int_rate   total_pymnt\n",
              "0      below 5000   3658.255025  12.947209   3817.183510\n",
              "1     5001to10000   8103.667982  12.325634   8411.594693\n",
              "2    10001to15000  13007.722760  13.230596  13378.406182\n",
              "3    15001to20000  18140.339849  13.556220  18533.711105\n",
              "4    20001to25000  23251.906275  13.799484  23836.626420\n",
              "5    25001to30000  28464.171380  14.577298  29171.516705\n",
              "6    30001to35000  34228.413156  15.788253  35089.550444\n",
              "7    35001to40000  39107.663910  12.176641  36298.848350"
            ]
          },
          "metadata": {
            "tags": []
          },
          "execution_count": 30
        }
      ]
    },
    {
      "cell_type": "code",
      "metadata": {
        "id": "8hkYVs2YzPVm",
        "colab_type": "code",
        "outputId": "9986f96a-2d56-4ef1-ac56-988dd0272aa2",
        "colab": {
          "base_uri": "https://localhost:8080/",
          "height": 402
        }
      },
      "source": [
        "plt.figure(figsize=(10,5))\n",
        "chart=sns.barplot(x=meanrp.index,y='int_rate',data=meanrp,\n",
        "                  order=meanrp['int_rate'].sort_values(ascending=False).index,\n",
        "                  palette='winter')\n",
        "chart.set_xticklabels(chart.get_xticklabels(), rotation=45)\n",
        "chart"
      ],
      "execution_count": 0,
      "outputs": [
        {
          "output_type": "execute_result",
          "data": {
            "text/plain": [
              "<matplotlib.axes._subplots.AxesSubplot at 0x7fd93ab9eeb8>"
            ]
          },
          "metadata": {
            "tags": []
          },
          "execution_count": 53
        },
        {
          "output_type": "display_data",
          "data": {
            "image/png": "[encoded data removed]",
            "text/plain": [
              "<Figure size 720x360 with 1 Axes>"
            ]
          },
          "metadata": {
            "tags": [],
            "needs_background": "light"
          }
        }
      ]
    },
    {
      "cell_type": "code",
      "metadata": {
        "colab_type": "code",
        "outputId": "b1d6dba3-0f24-4815-eaee-78111c272afa",
        "id": "RpYd6tE5_feM",
        "colab": {
          "base_uri": "https://localhost:8080/",
          "height": 402
        }
      },
      "source": [
        "meanfp=data[data['loan_status']=='Fully Paid'].groupby('loan_amnt_group').mean()\n",
        "plt.figure(figsize=(10,5))\n",
        "chart=sns.barplot(x=meanfp.index,y='int_rate',data=meanfp,\n",
        "                  order=meanfp['int_rate'].sort_values(ascending=False).index,\n",
        "                  palette='winter')\n",
        "chart.set_xticklabels(chart.get_xticklabels(), rotation=45)\n",
        "chart\n"
      ],
      "execution_count": 0,
      "outputs": [
        {
          "output_type": "execute_result",
          "data": {
            "text/plain": [
              "<matplotlib.axes._subplots.AxesSubplot at 0x7fd8ec97c6a0>"
            ]
          },
          "metadata": {
            "tags": []
          },
          "execution_count": 66
        },
        {
          "output_type": "display_data",
          "data": {
            "image/png": "[encoded data removed]",
            "text/plain": [
              "<Figure size 720x360 with 1 Axes>"
            ]
          },
          "metadata": {
            "tags": [],
            "needs_background": "light"
          }
        }
      ]
    },
    {
      "cell_type": "code",
      "metadata": {
        "id": "93iNqahdr5mQ",
        "colab_type": "code",
        "outputId": "11b15429-d1f3-4754-c649-b9f096f18b59",
        "colab": {
          "base_uri": "https://localhost:8080/",
          "height": 517
        }
      },
      "source": [
        "plt.figure(figsize=(12,8))\n",
        "sns.countplot(data['loan_amnt_group'],order=data['loan_amnt_group'].value_counts().index)"
      ],
      "execution_count": 0,
      "outputs": [
        {
          "output_type": "execute_result",
          "data": {
            "text/plain": [
              "<matplotlib.axes._subplots.AxesSubplot at 0x7f95f1649048>"
            ]
          },
          "metadata": {
            "tags": []
          },
          "execution_count": 25
        },
        {
          "output_type": "display_data",
          "data": {
            "image/png": "[encoded data removed]",
            "text/plain": [
              "<Figure size 864x576 with 1 Axes>"
            ]
          },
          "metadata": {
            "tags": [],
            "needs_background": "light"
          }
        }
      ]
    },
    {
      "cell_type": "code",
      "metadata": {
        "colab_type": "code",
        "outputId": "011c027c-c33f-4ae7-98e2-fd1245a597ca",
        "id": "hOggtr7y71_S",
        "colab": {
          "base_uri": "https://localhost:8080/",
          "height": 517
        }
      },
      "source": [
        "chrd=data[data['loan_status']=='Charged Off']\n",
        "plt.figure(figsize=(12,8))\n",
        "sns.countplot(chrd['loan_amnt_group'],\n",
        "              order=chrd['loan_amnt_group'].value_counts().index,\n",
        "              palette='coolwarm_r')"
      ],
      "execution_count": 0,
      "outputs": [
        {
          "output_type": "execute_result",
          "data": {
            "text/plain": [
              "<matplotlib.axes._subplots.AxesSubplot at 0x7fd93a9b1be0>"
            ]
          },
          "metadata": {
            "tags": []
          },
          "execution_count": 59
        },
        {
          "output_type": "display_data",
          "data": {
            "image/png": "[encoded data removed]",
            "text/plain": [
              "<Figure size 864x576 with 1 Axes>"
            ]
          },
          "metadata": {
            "tags": [],
            "needs_background": "light"
          }
        }
      ]
    },
    {
      "cell_type": "code",
      "metadata": {
        "id": "oY6yuJsH5_20",
        "colab_type": "code",
        "colab": {}
      },
      "source": [
        ""
      ],
      "execution_count": 0,
      "outputs": []
    },
    {
      "cell_type": "code",
      "metadata": {
        "id": "IjxQUCBJA8Br",
        "colab_type": "code",
        "colab": {}
      },
      "source": [
        ""
      ],
      "execution_count": 0,
      "outputs": []
    }
  ]
}